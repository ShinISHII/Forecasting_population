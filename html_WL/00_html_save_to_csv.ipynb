{
 "cells": [
  {
   "cell_type": "markdown",
   "metadata": {},
   "source": [
    "## Check"
   ]
  },
  {
   "cell_type": "code",
   "execution_count": null,
   "metadata": {},
   "outputs": [
    {
     "name": "stderr",
     "output_type": "stream",
     "text": [
      "/tmp/ipykernel_3874574/273463336.py:15: FutureWarning: Passing literal html to 'read_html' is deprecated and will be removed in a future version. To read from a literal string, wrap it in a 'StringIO' object.\n",
      "  tables = pd.read_html(str(soup))\n"
     ]
    }
   ],
   "source": [
    "import requests\n",
    "import pandas as pd\n",
    "from bs4 import BeautifulSoup\n",
    "\n",
    "# URLの設定\n",
    "url = 'http://www1.river.go.jp/cgi-bin/DspWaterData.exe?KIND=2&ID=307111287708010&BGNDATE=20241101&ENDDATE=20241231&KAWABOU=NO'\n",
    "\n",
    "# HTMLコンテンツの取得\n",
    "response = requests.get(url)\n",
    "\n",
    "# BeautifulSoupでHTMLを解析\n",
    "soup = BeautifulSoup(response.content, 'html.parser')\n",
    "\n",
    "# pandasでHTMLテーブルを抽出\n",
    "tables = pd.read_html(str(soup))\n",
    "\n",
    "# 最初のテーブルを取得（インデックスを0に指定）\n",
    "df = tables[1]\n",
    "\n",
    "# 結果を表示\n",
    "\n",
    "\n",
    "# print(df)"
   ]
  },
  {
   "cell_type": "code",
   "execution_count": 17,
   "metadata": {},
   "outputs": [
    {
     "name": "stdout",
     "output_type": "stream",
     "text": [
      "1          NaN    1時    2時    3時    4時    5時    6時    7時    8時    9時  ...  \\\n",
      "0   2016/01/01  0.55  0.55  0.55  0.55  0.55  0.55  0.53  0.49  0.46  ...   \n",
      "1   2016/01/02  0.53  0.54  0.53  0.54  0.54  0.54  0.52  0.49  0.46  ...   \n",
      "2   2016/01/03  0.53  0.53  0.53  0.53  0.52  0.49  0.45  0.42  0.40  ...   \n",
      "3   2016/01/04  0.53  0.53  0.52  0.49  0.45  0.42  0.40  0.38  0.37  ...   \n",
      "4   2016/01/05  0.52  0.52  0.53  0.53  0.53  0.53  0.52  0.49  0.45  ...   \n",
      "5   2016/01/06  0.52  0.52  0.52  0.52  0.52  0.52  0.51  0.49  0.45  ...   \n",
      "6   2016/01/07  0.53  0.53  0.53  0.53  0.52  0.49  0.45  0.42  0.40  ...   \n",
      "7   2016/01/08  0.53  0.53  0.53  0.53  0.52  0.49  0.45  0.42  0.40  ...   \n",
      "8   2016/01/09  0.53  0.53  0.53  0.53  0.52  0.49  0.45  0.42  0.40  ...   \n",
      "9   2016/01/10  0.53  0.53  0.52  0.49  0.45  0.42  0.40  0.38  0.37  ...   \n",
      "10  2016/01/11  0.40  0.38  0.37  0.36  0.36  0.36  0.36  0.36  0.36  ...   \n",
      "11  2016/01/12  0.39  0.37  0.36  0.35  0.35  0.35  0.35  0.35  0.35  ...   \n",
      "12  2016/01/13  0.45  0.42  0.40  0.38  0.36  0.36  0.35  0.35  0.35  ...   \n",
      "13  2016/01/14  0.44  0.41  0.38  0.36  0.35  0.34  0.33  0.33  0.33  ...   \n",
      "14  2016/01/15  0.39  0.37  0.35  0.34  0.34  0.33  0.33  0.33  0.33  ...   \n",
      "15  2016/01/16  0.38  0.36  0.35  0.34  0.33  0.33  0.33  0.33  0.33  ...   \n",
      "16  2016/01/17  0.38  0.36  0.35  0.34  0.33  0.33  0.32  0.32  0.32  ...   \n",
      "17  2016/01/18  0.40  0.38  0.37  0.37  0.37  0.38  0.40  0.42  0.45  ...   \n",
      "18  2016/01/19  0.65  0.66  0.66  0.66  0.65  0.64  0.64  0.63  0.63  ...   \n",
      "19  2016/01/20  0.59  0.58  0.56  0.52  0.48  0.46  0.44  0.44  0.43  ...   \n",
      "20  2016/01/21  0.59  0.59  0.59  0.59  0.59  0.58  0.56  0.52  0.48  ...   \n",
      "21  2016/01/22  0.59  0.59  0.59  0.59  0.59  0.58  0.56  0.52  0.48  ...   \n",
      "22  2016/01/23  0.59  0.59  0.57  0.52  0.49  0.47  0.45  0.45  0.45  ...   \n",
      "23  2016/01/24  0.59  0.58  0.56  0.52  0.48  0.46  0.45  0.44  0.44  ...   \n",
      "24  2016/01/25  0.58  0.58  0.58  0.58  0.58  0.58  0.58  0.58  0.58  ...   \n",
      "25  2016/01/26  0.42  0.42  0.42  0.42  0.42  0.42  0.41  0.41  0.41  ...   \n",
      "26  2016/01/27  0.54  0.50  0.47  0.44  0.42  0.41  0.41  0.41  0.40  ...   \n",
      "27  2016/01/28  0.57  0.57  0.57  0.57  0.57  0.57  0.54  0.50  0.47  ...   \n",
      "28  2016/01/29  0.57  0.58  0.58  0.59  0.61  0.62  0.65  0.68  0.72  ...   \n",
      "29  2016/01/30  1.43  1.41  1.39  1.37  1.35  1.32  1.30  1.29  1.29  ...   \n",
      "30  2016/01/31  1.14  1.13  1.12  1.11  1.10  1.09  1.08  1.07  1.06  ...   \n",
      "\n",
      "1    15時   16時   17時   18時   19時   20時   21時   22時   23時   24時  \n",
      "0   0.38  0.38  0.46  0.53  0.53  0.53  0.54  0.54  0.54  0.54  \n",
      "1   0.37  0.37  0.42  0.52  0.53  0.53  0.53  0.53  0.53  0.53  \n",
      "2   0.36  0.36  0.40  0.52  0.53  0.53  0.53  0.53  0.53  0.53  \n",
      "3   0.35  0.35  0.38  0.51  0.52  0.52  0.52  0.52  0.52  0.52  \n",
      "4   0.35  0.35  0.37  0.51  0.52  0.52  0.52  0.52  0.52  0.52  \n",
      "5   0.37  0.36  0.43  0.52  0.53  0.53  0.53  0.53  0.53  0.53  \n",
      "6   0.36  0.36  0.43  0.52  0.53  0.53  0.53  0.53  0.53  0.53  \n",
      "7   0.36  0.36  0.41  0.51  0.52  0.53  0.53  0.53  0.53  0.53  \n",
      "8   0.36  0.36  0.40  0.51  0.52  0.52  0.53  0.53  0.53  0.53  \n",
      "9   0.36  0.35  0.41  0.51  0.52  0.52  0.52  0.49  0.45  0.42  \n",
      "10  0.35  0.35  0.37  0.51  0.52  0.52  0.51  0.48  0.45  0.42  \n",
      "11  0.35  0.34  0.37  0.50  0.52  0.52  0.52  0.52  0.51  0.48  \n",
      "12  0.33  0.33  0.33  0.47  0.50  0.51  0.51  0.51  0.50  0.48  \n",
      "13  0.33  0.33  0.33  0.47  0.50  0.51  0.50  0.48  0.44  0.41  \n",
      "14  0.33  0.32  0.32  0.47  0.50  0.51  0.50  0.47  0.44  0.41  \n",
      "15  0.32  0.32  0.32  0.45  0.50  0.50  0.50  0.47  0.44  0.41  \n",
      "16  0.32  0.32  0.32  0.45  0.50  0.51  0.51  0.48  0.45  0.42  \n",
      "17  0.55  0.63  0.64  0.64  0.65  0.65  0.65  0.65  0.65  0.65  \n",
      "18  0.61  0.61  0.60  0.60  0.60  0.60  0.60  0.60  0.59  0.59  \n",
      "19  0.44  0.51  0.58  0.58  0.59  0.59  0.59  0.59  0.59  0.59  \n",
      "20  0.43  0.47  0.57  0.58  0.58  0.58  0.58  0.58  0.58  0.58  \n",
      "21  0.43  0.48  0.57  0.58  0.58  0.58  0.58  0.58  0.59  0.59  \n",
      "22  0.44  0.51  0.58  0.58  0.58  0.58  0.58  0.59  0.59  0.59  \n",
      "23  0.43  0.49  0.57  0.58  0.58  0.58  0.58  0.58  0.58  0.58  \n",
      "24  0.57  0.57  0.55  0.51  0.47  0.45  0.43  0.43  0.42  0.42  \n",
      "25  0.41  0.42  0.54  0.56  0.56  0.56  0.56  0.57  0.57  0.56  \n",
      "26  0.40  0.40  0.53  0.55  0.56  0.56  0.56  0.56  0.57  0.57  \n",
      "27  0.40  0.40  0.52  0.55  0.55  0.56  0.56  0.57  0.57  0.57  \n",
      "28  1.12  1.22  1.31  1.37  1.41  1.43  1.45  1.44  1.44  1.44  \n",
      "29  1.25  1.24  1.23  1.22  1.21  1.20  1.19  1.18  1.16  1.15  \n",
      "30  1.02  1.02  1.01  1.01  1.00  0.99  0.99  0.98  0.98  0.98  \n",
      "\n",
      "[31 rows x 25 columns]\n"
     ]
    }
   ],
   "source": [
    "import pandas as pd\n",
    "\n",
    "# 最初の2行をヘッダーとして再設定\n",
    "df.columns = df.iloc[1]\n",
    "\n",
    "# 最初の2行と最後の1行を削除\n",
    "df = df.drop([0, 1, len(df) - 1])\n",
    "\n",
    "# インデックスをリセット\n",
    "df = df.reset_index(drop=True)\n",
    "\n",
    "# 結果を確認\n",
    "print(df)"
   ]
  },
  {
   "cell_type": "markdown",
   "metadata": {},
   "source": [
    "## 以下，関数を用いて作ろうとしたプログラム"
   ]
  },
  {
   "cell_type": "code",
   "execution_count": 24,
   "metadata": {},
   "outputs": [
    {
     "name": "stdout",
     "output_type": "stream",
     "text": [
      "Fetching data for 2016-01...\n",
      "                 0         1    2    3\n",
      "0            観測所記号      観測所名  水系名  河川名\n",
      "1  307111287708010  高梁（たかはし）  高梁川  高梁川\n"
     ]
    },
    {
     "name": "stderr",
     "output_type": "stream",
     "text": [
      "/tmp/ipykernel_3874574/3827931642.py:23: FutureWarning: Passing literal html to 'read_html' is deprecated and will be removed in a future version. To read from a literal string, wrap it in a 'StringIO' object.\n",
      "  tables = pd.read_html(str(soup))\n"
     ]
    },
    {
     "ename": "KeyError",
     "evalue": "\"None of [Index(['時刻', '水位'], dtype='object')] are in the [columns]\"",
     "output_type": "error",
     "traceback": [
      "\u001b[0;31m---------------------------------------------------------------------------\u001b[0m",
      "\u001b[0;31mKeyError\u001b[0m                                  Traceback (most recent call last)",
      "Cell \u001b[0;32mIn[24], line 62\u001b[0m\n\u001b[1;32m     60\u001b[0m             \u001b[38;5;28;01mbreak\u001b[39;00m\n\u001b[1;32m     61\u001b[0m         \u001b[38;5;28mprint\u001b[39m(\u001b[38;5;124mf\u001b[39m\u001b[38;5;124m\"\u001b[39m\u001b[38;5;124mFetching data for \u001b[39m\u001b[38;5;132;01m{\u001b[39;00myear\u001b[38;5;132;01m}\u001b[39;00m\u001b[38;5;124m-\u001b[39m\u001b[38;5;132;01m{\u001b[39;00mmonth\u001b[38;5;132;01m:\u001b[39;00m\u001b[38;5;124m02d\u001b[39m\u001b[38;5;132;01m}\u001b[39;00m\u001b[38;5;124m...\u001b[39m\u001b[38;5;124m\"\u001b[39m)\n\u001b[0;32m---> 62\u001b[0m         monthly_data \u001b[38;5;241m=\u001b[39m \u001b[43mfetch_data\u001b[49m\u001b[43m(\u001b[49m\u001b[43mmonth\u001b[49m\u001b[43m,\u001b[49m\u001b[43m \u001b[49m\u001b[43myear\u001b[49m\u001b[43m)\u001b[49m\n\u001b[1;32m     63\u001b[0m         all_data \u001b[38;5;241m=\u001b[39m pd\u001b[38;5;241m.\u001b[39mconcat([all_data, monthly_data])\n\u001b[1;32m     65\u001b[0m \u001b[38;5;66;03m# 結果の確認\u001b[39;00m\n",
      "Cell \u001b[0;32mIn[24], line 30\u001b[0m, in \u001b[0;36mfetch_data\u001b[0;34m(month, year)\u001b[0m\n\u001b[1;32m     27\u001b[0m \u001b[38;5;28mprint\u001b[39m(df)\n\u001b[1;32m     29\u001b[0m \u001b[38;5;66;03m# 必要な列（仮定: 時刻と水位）\u001b[39;00m\n\u001b[0;32m---> 30\u001b[0m df \u001b[38;5;241m=\u001b[39m \u001b[43mdf\u001b[49m\u001b[43m[\u001b[49m\u001b[43m[\u001b[49m\u001b[38;5;124;43m'\u001b[39;49m\u001b[38;5;124;43m時刻\u001b[39;49m\u001b[38;5;124;43m'\u001b[39;49m\u001b[43m,\u001b[49m\u001b[43m \u001b[49m\u001b[38;5;124;43m'\u001b[39;49m\u001b[38;5;124;43m水位\u001b[39;49m\u001b[38;5;124;43m'\u001b[39;49m\u001b[43m]\u001b[49m\u001b[43m]\u001b[49m\n\u001b[1;32m     32\u001b[0m \u001b[38;5;66;03m# '時刻'列をpandasのdatetime形式に変換\u001b[39;00m\n\u001b[1;32m     33\u001b[0m df[\u001b[38;5;124m'\u001b[39m\u001b[38;5;124m時刻\u001b[39m\u001b[38;5;124m'\u001b[39m] \u001b[38;5;241m=\u001b[39m pd\u001b[38;5;241m.\u001b[39mto_datetime(df[\u001b[38;5;124m'\u001b[39m\u001b[38;5;124m時刻\u001b[39m\u001b[38;5;124m'\u001b[39m], \u001b[38;5;28mformat\u001b[39m\u001b[38;5;241m=\u001b[39m\u001b[38;5;124m'\u001b[39m\u001b[38;5;124m%\u001b[39m\u001b[38;5;124mY/\u001b[39m\u001b[38;5;124m%\u001b[39m\u001b[38;5;124mm/\u001b[39m\u001b[38;5;132;01m%d\u001b[39;00m\u001b[38;5;124m \u001b[39m\u001b[38;5;124m%\u001b[39m\u001b[38;5;124mH:\u001b[39m\u001b[38;5;124m%\u001b[39m\u001b[38;5;124mM\u001b[39m\u001b[38;5;124m'\u001b[39m)\n",
      "File \u001b[0;32m~/.local/lib/python3.10/site-packages/pandas/core/frame.py:4096\u001b[0m, in \u001b[0;36mDataFrame.__getitem__\u001b[0;34m(self, key)\u001b[0m\n\u001b[1;32m   4094\u001b[0m     \u001b[38;5;28;01mif\u001b[39;00m is_iterator(key):\n\u001b[1;32m   4095\u001b[0m         key \u001b[38;5;241m=\u001b[39m \u001b[38;5;28mlist\u001b[39m(key)\n\u001b[0;32m-> 4096\u001b[0m     indexer \u001b[38;5;241m=\u001b[39m \u001b[38;5;28;43mself\u001b[39;49m\u001b[38;5;241;43m.\u001b[39;49m\u001b[43mcolumns\u001b[49m\u001b[38;5;241;43m.\u001b[39;49m\u001b[43m_get_indexer_strict\u001b[49m\u001b[43m(\u001b[49m\u001b[43mkey\u001b[49m\u001b[43m,\u001b[49m\u001b[43m \u001b[49m\u001b[38;5;124;43m\"\u001b[39;49m\u001b[38;5;124;43mcolumns\u001b[39;49m\u001b[38;5;124;43m\"\u001b[39;49m\u001b[43m)\u001b[49m[\u001b[38;5;241m1\u001b[39m]\n\u001b[1;32m   4098\u001b[0m \u001b[38;5;66;03m# take() does not accept boolean indexers\u001b[39;00m\n\u001b[1;32m   4099\u001b[0m \u001b[38;5;28;01mif\u001b[39;00m \u001b[38;5;28mgetattr\u001b[39m(indexer, \u001b[38;5;124m\"\u001b[39m\u001b[38;5;124mdtype\u001b[39m\u001b[38;5;124m\"\u001b[39m, \u001b[38;5;28;01mNone\u001b[39;00m) \u001b[38;5;241m==\u001b[39m \u001b[38;5;28mbool\u001b[39m:\n",
      "File \u001b[0;32m~/.local/lib/python3.10/site-packages/pandas/core/indexes/base.py:6200\u001b[0m, in \u001b[0;36mIndex._get_indexer_strict\u001b[0;34m(self, key, axis_name)\u001b[0m\n\u001b[1;32m   6197\u001b[0m \u001b[38;5;28;01melse\u001b[39;00m:\n\u001b[1;32m   6198\u001b[0m     keyarr, indexer, new_indexer \u001b[38;5;241m=\u001b[39m \u001b[38;5;28mself\u001b[39m\u001b[38;5;241m.\u001b[39m_reindex_non_unique(keyarr)\n\u001b[0;32m-> 6200\u001b[0m \u001b[38;5;28;43mself\u001b[39;49m\u001b[38;5;241;43m.\u001b[39;49m\u001b[43m_raise_if_missing\u001b[49m\u001b[43m(\u001b[49m\u001b[43mkeyarr\u001b[49m\u001b[43m,\u001b[49m\u001b[43m \u001b[49m\u001b[43mindexer\u001b[49m\u001b[43m,\u001b[49m\u001b[43m \u001b[49m\u001b[43maxis_name\u001b[49m\u001b[43m)\u001b[49m\n\u001b[1;32m   6202\u001b[0m keyarr \u001b[38;5;241m=\u001b[39m \u001b[38;5;28mself\u001b[39m\u001b[38;5;241m.\u001b[39mtake(indexer)\n\u001b[1;32m   6203\u001b[0m \u001b[38;5;28;01mif\u001b[39;00m \u001b[38;5;28misinstance\u001b[39m(key, Index):\n\u001b[1;32m   6204\u001b[0m     \u001b[38;5;66;03m# GH 42790 - Preserve name from an Index\u001b[39;00m\n",
      "File \u001b[0;32m~/.local/lib/python3.10/site-packages/pandas/core/indexes/base.py:6249\u001b[0m, in \u001b[0;36mIndex._raise_if_missing\u001b[0;34m(self, key, indexer, axis_name)\u001b[0m\n\u001b[1;32m   6247\u001b[0m \u001b[38;5;28;01mif\u001b[39;00m nmissing:\n\u001b[1;32m   6248\u001b[0m     \u001b[38;5;28;01mif\u001b[39;00m nmissing \u001b[38;5;241m==\u001b[39m \u001b[38;5;28mlen\u001b[39m(indexer):\n\u001b[0;32m-> 6249\u001b[0m         \u001b[38;5;28;01mraise\u001b[39;00m \u001b[38;5;167;01mKeyError\u001b[39;00m(\u001b[38;5;124mf\u001b[39m\u001b[38;5;124m\"\u001b[39m\u001b[38;5;124mNone of [\u001b[39m\u001b[38;5;132;01m{\u001b[39;00mkey\u001b[38;5;132;01m}\u001b[39;00m\u001b[38;5;124m] are in the [\u001b[39m\u001b[38;5;132;01m{\u001b[39;00maxis_name\u001b[38;5;132;01m}\u001b[39;00m\u001b[38;5;124m]\u001b[39m\u001b[38;5;124m\"\u001b[39m)\n\u001b[1;32m   6251\u001b[0m     not_found \u001b[38;5;241m=\u001b[39m \u001b[38;5;28mlist\u001b[39m(ensure_index(key)[missing_mask\u001b[38;5;241m.\u001b[39mnonzero()[\u001b[38;5;241m0\u001b[39m]]\u001b[38;5;241m.\u001b[39munique())\n\u001b[1;32m   6252\u001b[0m     \u001b[38;5;28;01mraise\u001b[39;00m \u001b[38;5;167;01mKeyError\u001b[39;00m(\u001b[38;5;124mf\u001b[39m\u001b[38;5;124m\"\u001b[39m\u001b[38;5;132;01m{\u001b[39;00mnot_found\u001b[38;5;132;01m}\u001b[39;00m\u001b[38;5;124m not in index\u001b[39m\u001b[38;5;124m\"\u001b[39m)\n",
      "\u001b[0;31mKeyError\u001b[0m: \"None of [Index(['時刻', '水位'], dtype='object')] are in the [columns]\""
     ]
    }
   ],
   "source": [
    "import requests\n",
    "import pandas as pd\n",
    "from bs4 import BeautifulSoup\n",
    "\n",
    "# データ取得関数\n",
    "def fetch_data(month, year):\n",
    "    # URL設定\n",
    "    start_date = f\"{year}{month:02d}01\"  # BGNDATE（開始日）\n",
    "    # 終了日は月の最終日を計算\n",
    "    if month == 12:\n",
    "        end_date = f\"{year + 1}0101\"  # 次の年の1月1日を終了日\n",
    "    else:\n",
    "        end_date = f\"{year}{month + 1:02d}01\"  # 次の月の1日を終了日\n",
    "    url = f'http://www1.river.go.jp/cgi-bin/DspWaterData.exe?KIND=2&ID=307111287708010&BGNDATE={start_date}&ENDDATE={end_date}&KAWABOU=NO'\n",
    "    \n",
    "    # HTMLコンテンツの取得\n",
    "    response = requests.get(url)\n",
    "    \n",
    "    # BeautifulSoupでHTMLを解析\n",
    "    soup = BeautifulSoup(response.content, 'html.parser')\n",
    "    \n",
    "    # pandasでHTMLテーブルを抽出\n",
    "    tables = pd.read_html(str(soup))\n",
    "    \n",
    "    # 最初のテーブルを取得\n",
    "    df = tables[0]\n",
    "    print(df)\n",
    "    \n",
    "    # 必要な列（仮定: 時刻と水位）\n",
    "    df = df[['時刻', '水位']]\n",
    "    \n",
    "    # '時刻'列をpandasのdatetime形式に変換\n",
    "    df['時刻'] = pd.to_datetime(df['時刻'], format='%Y/%m/%d %H:%M')\n",
    "    \n",
    "    # '水位'列の空白や欠損部分をnullに変換\n",
    "    df['水位'] = pd.to_numeric(df['水位'], errors='coerce')\n",
    "    \n",
    "    # 時間インデックスを設定\n",
    "    df.set_index('時刻', inplace=True)\n",
    "    \n",
    "    # 欠損値をnullにする処理\n",
    "    df = df.where(pd.notnull(df), None)\n",
    "    \n",
    "    # 1時間単位でデータをリサンプリング（欠損値はそのままnullに）\n",
    "    df_resampled = df.resample('H').asfreq()\n",
    "    \n",
    "    return df_resampled\n",
    "\n",
    "# 2016年1月から現在の月までのデータを取得\n",
    "start_year = 2016\n",
    "end_year = 2024\n",
    "current_month = 12  # 例: 現在の月\n",
    "\n",
    "all_data = pd.DataFrame()\n",
    "\n",
    "# 各月ごとにデータを取得\n",
    "for year in range(start_year, end_year + 1):\n",
    "    for month in range(1, 13):\n",
    "        if year == end_year and month > current_month:\n",
    "            break\n",
    "        print(f\"Fetching data for {year}-{month:02d}...\")\n",
    "        monthly_data = fetch_data(month, year)\n",
    "        all_data = pd.concat([all_data, monthly_data])\n",
    "\n",
    "# 結果の確認\n",
    "print(all_data)"
   ]
  }
 ],
 "metadata": {
  "kernelspec": {
   "display_name": "Python 3",
   "language": "python",
   "name": "python3"
  },
  "language_info": {
   "codemirror_mode": {
    "name": "ipython",
    "version": 3
   },
   "file_extension": ".py",
   "mimetype": "text/x-python",
   "name": "python",
   "nbconvert_exporter": "python",
   "pygments_lexer": "ipython3",
   "version": "3.10.12"
  }
 },
 "nbformat": 4,
 "nbformat_minor": 2
}
