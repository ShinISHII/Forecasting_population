{
 "cells": [
  {
   "cell_type": "code",
   "execution_count": 4,
   "metadata": {},
   "outputs": [],
   "source": [
    "template1=(8,5)"
   ]
  },
  {
   "cell_type": "code",
   "execution_count": 5,
   "metadata": {},
   "outputs": [],
   "source": [
    "def Mape(predict, observed):\n",
    "  absolute_diff_percentage =  abs( (predict - observed) / observed)\n",
    "  # print(f'Each diff ratio on each hour: {absolute_diff_percentage}')\n",
    "  sum_abs_diff = sum(absolute_diff_percentage)\n",
    "  # print()\n",
    "  # print(f'SUM: {sum_abs_diff}')\n",
    "\n",
    "  mape = (sum_abs_diff / len(predict))*100 #パーセント表記\n",
    "  print(f'MAPE : {mape:.1f} %')\n",
    "  #mape は GroudTruth を基準にしたときの予測値のずれの比率について，全データを計算したときの，データ1つあたりの平均"
   ]
  },
  {
   "cell_type": "code",
   "execution_count": 6,
   "metadata": {},
   "outputs": [],
   "source": [
    "def RMSE(predict, observed):\n",
    "    squared_diff = (predict - observed) ** 2\n",
    "    sum_squared_diff = sum(squared_diff)\n",
    "    mse = sum_squared_diff / len(predict)\n",
    "    rmse = mse ** 0.5  # 平方根を取る\n",
    "    print(f'RMSE : {rmse:.3f}')\n",
    "    # RMSEはGroundTruthと予測値の差の二乗平均をとったもの\n",
    "\n",
    "def MSE(predict, observed):\n",
    "    squared_diff = (predict - observed) ** 2\n",
    "    sum_squared_diff = sum(squared_diff)\n",
    "    mse = sum_squared_diff / len(predict)\n",
    "    print(f'MSE : {mse:.3f}')\n",
    "    # MSEはGroundTruthと予測値の差の二乗平均"
   ]
  },
  {
   "cell_type": "markdown",
   "metadata": {},
   "source": [
    "# LSTM"
   ]
  },
  {
   "cell_type": "markdown",
   "metadata": {},
   "source": [
    "### Import vars from LSTM (with weather, warning) pickle"
   ]
  },
  {
   "cell_type": "code",
   "execution_count": 7,
   "metadata": {},
   "outputs": [
    {
     "ename": "FileNotFoundError",
     "evalue": "[Errno 2] No such file or directory: '/home/shin/lab/00_project/LSTM/pickles/20240924-2045-42/vars_exoTrue.pickle'",
     "output_type": "error",
     "traceback": [
      "\u001b[0;31m---------------------------------------------------------------------------\u001b[0m",
      "\u001b[0;31mFileNotFoundError\u001b[0m                         Traceback (most recent call last)",
      "Cell \u001b[0;32mIn[7], line 8\u001b[0m\n\u001b[1;32m      5\u001b[0m pickle_path \u001b[38;5;241m=\u001b[39m (\u001b[38;5;124mf\u001b[39m\u001b[38;5;124m'\u001b[39m\u001b[38;5;124m/home/shin/lab/00_project/LSTM/pickles/20240924-2045-42/vars_exoTrue.pickle\u001b[39m\u001b[38;5;124m'\u001b[39m)\n\u001b[1;32m      7\u001b[0m \u001b[38;5;66;03m# pickleでデータを読み込む\u001b[39;00m\n\u001b[0;32m----> 8\u001b[0m \u001b[38;5;28;01mwith\u001b[39;00m \u001b[38;5;28;43mopen\u001b[39;49m\u001b[43m(\u001b[49m\u001b[43mpickle_path\u001b[49m\u001b[43m,\u001b[49m\u001b[43m \u001b[49m\u001b[43mmode\u001b[49m\u001b[38;5;241;43m=\u001b[39;49m\u001b[38;5;124;43m'\u001b[39;49m\u001b[38;5;124;43mrb\u001b[39;49m\u001b[38;5;124;43m'\u001b[39;49m\u001b[43m)\u001b[49m \u001b[38;5;28;01mas\u001b[39;00m fi:\n\u001b[1;32m      9\u001b[0m     data \u001b[38;5;241m=\u001b[39m pickle\u001b[38;5;241m.\u001b[39mload(fi)\n\u001b[1;32m     11\u001b[0m \u001b[38;5;66;03m# date\u001b[39;00m\n",
      "File \u001b[0;32m~/.local/lib/python3.10/site-packages/IPython/core/interactiveshell.py:324\u001b[0m, in \u001b[0;36m_modified_open\u001b[0;34m(file, *args, **kwargs)\u001b[0m\n\u001b[1;32m    317\u001b[0m \u001b[38;5;28;01mif\u001b[39;00m file \u001b[38;5;129;01min\u001b[39;00m {\u001b[38;5;241m0\u001b[39m, \u001b[38;5;241m1\u001b[39m, \u001b[38;5;241m2\u001b[39m}:\n\u001b[1;32m    318\u001b[0m     \u001b[38;5;28;01mraise\u001b[39;00m \u001b[38;5;167;01mValueError\u001b[39;00m(\n\u001b[1;32m    319\u001b[0m         \u001b[38;5;124mf\u001b[39m\u001b[38;5;124m\"\u001b[39m\u001b[38;5;124mIPython won\u001b[39m\u001b[38;5;124m'\u001b[39m\u001b[38;5;124mt let you open fd=\u001b[39m\u001b[38;5;132;01m{\u001b[39;00mfile\u001b[38;5;132;01m}\u001b[39;00m\u001b[38;5;124m by default \u001b[39m\u001b[38;5;124m\"\u001b[39m\n\u001b[1;32m    320\u001b[0m         \u001b[38;5;124m\"\u001b[39m\u001b[38;5;124mas it is likely to crash IPython. If you know what you are doing, \u001b[39m\u001b[38;5;124m\"\u001b[39m\n\u001b[1;32m    321\u001b[0m         \u001b[38;5;124m\"\u001b[39m\u001b[38;5;124myou can use builtins\u001b[39m\u001b[38;5;124m'\u001b[39m\u001b[38;5;124m open.\u001b[39m\u001b[38;5;124m\"\u001b[39m\n\u001b[1;32m    322\u001b[0m     )\n\u001b[0;32m--> 324\u001b[0m \u001b[38;5;28;01mreturn\u001b[39;00m \u001b[43mio_open\u001b[49m\u001b[43m(\u001b[49m\u001b[43mfile\u001b[49m\u001b[43m,\u001b[49m\u001b[43m \u001b[49m\u001b[38;5;241;43m*\u001b[39;49m\u001b[43margs\u001b[49m\u001b[43m,\u001b[49m\u001b[43m \u001b[49m\u001b[38;5;241;43m*\u001b[39;49m\u001b[38;5;241;43m*\u001b[39;49m\u001b[43mkwargs\u001b[49m\u001b[43m)\u001b[49m\n",
      "\u001b[0;31mFileNotFoundError\u001b[0m: [Errno 2] No such file or directory: '/home/shin/lab/00_project/LSTM/pickles/20240924-2045-42/vars_exoTrue.pickle'"
     ]
    }
   ],
   "source": [
    "import pickle\n",
    "import os\n",
    "\n",
    "# 読み込み用のパス\n",
    "pickle_path = (f'/home/shin/lab/00_project/LSTM/pickles/20240924-2045-42/vars_exoTrue.pickle')\n",
    "\n",
    "# pickleでデータを読み込む\n",
    "with open(pickle_path, mode='rb') as fi:\n",
    "    data = pickle.load(fi)\n",
    "\n",
    "# date\n",
    "loaded_true_train_start_date = data['train_start_date']\n",
    "loaded_true_train_end_date = data['train_end_date']\n",
    "loaded_true_test_start_date = data['test_start_date']\n",
    "loaded_true_test_end_date = data['test_end_date']\n",
    "\n",
    "# test set\n",
    "loaded_true_date_rng = data['date_rng']\n",
    "loaded_true_df_test_inversed_plt = data['df_test_inversed_plt']\n",
    "# predicted set\n",
    "loaded_true_predicted_date_rng = data['predicted_date_rng']\n",
    "loaded_true_predicted_test_plot_inversed_plt = data['predicted_test_plot_inversed_plt']\n",
    "# all data\n",
    "loaded_df_ex = data['df_ex']\n",
    "\n",
    "\n",
    "# データ加工\n",
    "import pandas as pd\n",
    "\n",
    "df_test=pd.DataFrame({'pop':loaded_true_df_test_inversed_plt},index=loaded_true_date_rng)\n",
    "df_true_LSTM_withexo_predicted=pd.DataFrame({'pop':loaded_true_predicted_test_plot_inversed_plt},index=loaded_true_predicted_date_rng)"
   ]
  },
  {
   "cell_type": "markdown",
   "metadata": {},
   "source": [
    "### Import vars from LSTM (with only weather) pickle"
   ]
  },
  {
   "cell_type": "code",
   "execution_count": 5,
   "metadata": {},
   "outputs": [],
   "source": [
    "import pickle\n",
    "import os\n",
    "\n",
    "# 読み込み用のパス\n",
    "pickle_path = (f'/home/shin/lab/00_project/LSTM/pickles/20240920-122548-83.6/vars_exoTrue.pickle')\n",
    "\n",
    "# pickleでデータを読み込む\n",
    "with open(pickle_path, mode='rb') as fi:\n",
    "    data = pickle.load(fi)\n",
    "\n",
    "# date\n",
    "loaded_false_train_start_date = data['train_start_date']\n",
    "loaded_false_train_end_date = data['train_end_date']\n",
    "loaded_false_test_start_date = data['test_start_date']\n",
    "loaded_false_test_end_date = data['test_end_date']\n",
    "\n",
    "# test set\n",
    "loaded_false_date_rng = data['date_rng']\n",
    "loaded_false_df_test_inversed_plt = data['df_test_inversed_plt']\n",
    "# predicted set\n",
    "loaded_false_predicted_date_rng = data['predicted_date_rng']\n",
    "loaded_false_predicted_test_plot_inversed_plt = data['predicted_test_plot_inversed_plt']\n",
    "# all data\n",
    "loaded_false_df_ex = data['df_ex']\n",
    "\n",
    "\n",
    "# データ加工\n",
    "import pandas as pd\n",
    "# df_test=pd.DataFrame({'pop':loaded_false_df_test_inversed_plt},index=loaded_false_date_rng)\n",
    "df_false_LSTM_withexo_predicted=pd.DataFrame({'pop':loaded_false_predicted_test_plot_inversed_plt},index=loaded_false_predicted_date_rng)"
   ]
  },
  {
   "cell_type": "markdown",
   "metadata": {},
   "source": [
    "### Import vars from LSTM (without exo) pickle"
   ]
  },
  {
   "cell_type": "code",
   "execution_count": 6,
   "metadata": {},
   "outputs": [],
   "source": [
    "import pickle\n",
    "import os\n",
    "\n",
    "# 読み込み用のパス\n",
    "pickle_path = (f'/home/shin/lab/00_project/LSTM/pickles/20240924-0411-16-pop.83.3/vars_exoFalse.pickle')\n",
    "\n",
    "# pickleでデータを読み込む\n",
    "with open(pickle_path, mode='rb') as fi:\n",
    "    data = pickle.load(fi)\n",
    "\n",
    "# date\n",
    "# loaded_false_train_start_date = data['train_start_date']\n",
    "# loaded_false_train_end_date = data['train_end_date']\n",
    "# loaded_false_test_start_date = data['test_start_date']\n",
    "# loaded_false_test_end_date = data['test_end_date']\n",
    "\n",
    "# test set\n",
    "loaded_pop_date_rng = data['date_rng']\n",
    "loaded_pop_df_test_inversed_plt = data['df_test_inversed_plt']\n",
    "# predicted set\n",
    "loaded_pop_predicted_date_rng = data['predicted_date_rng']\n",
    "loaded_pop_predicted_test_plot_inversed_plt = data['predicted_test_plot_inversed_plt']\n",
    "# all data\n",
    "# loaded_false_df_ex = data['df_ex']\n",
    "\n",
    "\n",
    "# データ加工\n",
    "import pandas as pd\n",
    "# df_test=pd.DataFrame({'pop':loaded_pop_df_test_inversed_plt},index=loaded_pop_date_rng)\n",
    "df_pop_LSTM_withexo_predicted=pd.DataFrame({'pop':loaded_pop_predicted_test_plot_inversed_plt},index=loaded_pop_predicted_date_rng)"
   ]
  },
  {
   "cell_type": "code",
   "execution_count": 7,
   "metadata": {},
   "outputs": [],
   "source": [
    "### Import vars from LSTM (wit only weather) pickle\n",
    "import pickle\n",
    "import os\n",
    "\n",
    "# 読み込み用のパス\n",
    "pickle_path = (f'/home/shin/lab/00_project/LSTM/pickles/20240920-122548-83.6/vars_exoTrue.pickle')\n",
    "\n",
    "# pickleでデータを読み込む\n",
    "with open(pickle_path, mode='rb') as fi:\n",
    "    data = pickle.load(fi)\n",
    "\n",
    "# date\n",
    "loaded_false_train_start_date = data['train_start_date']\n",
    "loaded_false_train_end_date = data['train_end_date']\n",
    "loaded_false_test_start_date = data['test_start_date']\n",
    "loaded_false_test_end_date = data['test_end_date']\n",
    "\n",
    "# test set\n",
    "loaded_false_date_rng = data['date_rng']\n",
    "loaded_false_df_test_inversed_plt = data['df_test_inversed_plt']\n",
    "# predicted set\n",
    "loaded_false_predicted_date_rng = data['predicted_date_rng']\n",
    "loaded_false_predicted_test_plot_inversed_plt = data['predicted_test_plot_inversed_plt']\n",
    "# all data\n",
    "loaded_false_df_ex = data['df_ex']\n",
    "\n",
    "\n",
    "# データ加工\n",
    "import pandas as pd\n",
    "df_test=pd.DataFrame({'pop':loaded_false_df_test_inversed_plt},index=loaded_false_date_rng)\n",
    "df_false_LSTM_withexo_predicted=pd.DataFrame({'pop':loaded_false_predicted_test_plot_inversed_plt},index=loaded_false_predicted_date_rng)"
   ]
  },
  {
   "cell_type": "markdown",
   "metadata": {},
   "source": [
    "### LSTM vs LSTM "
   ]
  },
  {
   "cell_type": "code",
   "execution_count": null,
   "metadata": {},
   "outputs": [],
   "source": [
    "import matplotlib.pyplot as plt\n",
    "\n",
    "# FigureとAxesを作成\n",
    "fig, ax = plt.subplots(figsize=(10, 6))  # Figureサイズの設定 (幅, 高さ)\n",
    "\n",
    "# データのプロット\n",
    "ax.plot(df_test, label='Obserbed',color='lightgray')\n",
    "ax.plot(df_pop_LSTM_withexo_predicted, label='Forecasted by LSTM (without exogenous)',color='blue')\n",
    "ax.plot(df_false_LSTM_withexo_predicted, label='Forecasted by LSTM (with weather)',color='green')\n",
    "ax.plot(df_true_LSTM_withexo_predicted, label='Forecasted by LSTM (with weather,warnings) ',color='red')\n",
    "\n",
    "\n",
    "import matplotlib.dates as mdates\n",
    "formatter = mdates.DateFormatter('%Y-%b-%d')  # 年-月形式で表示\n",
    "ax.xaxis.set_major_formatter(formatter)\n",
    "\n",
    "ax.set_ylim(-200, 1500)\n",
    "ax.legend()\n",
    "ax.grid()\n",
    "ax.set_title('Forecasted Population by LSTM')\n",
    "ax.set_ylabel('Population')\n",
    "\n",
    "# グラフを表示\n",
    "plt.show()"
   ]
  },
  {
   "cell_type": "code",
   "execution_count": null,
   "metadata": {},
   "outputs": [],
   "source": [
    "print('LSTM with weather,warnings')\n",
    "Mape(df_true_LSTM_withexo_predicted['pop'],df_test.iloc[-len(df_true_LSTM_withexo_predicted['pop']):,0])\n",
    "RMSE(df_true_LSTM_withexo_predicted['pop'],df_test.iloc[-len(df_true_LSTM_withexo_predicted['pop']):,0])\n",
    "print()\n",
    "\n",
    "print('LSTM with weather')\n",
    "Mape(df_false_LSTM_withexo_predicted['pop'],df_test.iloc[-240:,0])\n",
    "RMSE(df_false_LSTM_withexo_predicted['pop'],df_test.iloc[-240:,0])\n",
    "print()\n",
    "print('LSTM without exo')\n",
    "Mape(df_pop_LSTM_withexo_predicted['pop'],df_test.iloc[-240:,0])\n",
    "RMSE(df_pop_LSTM_withexo_predicted['pop'],df_test.iloc[-240:,0])"
   ]
  },
  {
   "cell_type": "markdown",
   "metadata": {},
   "source": [
    "# SARIMAX"
   ]
  },
  {
   "cell_type": "markdown",
   "metadata": {},
   "source": [
    "### Import vars from SARIMAX (with exo) pickle"
   ]
  },
  {
   "cell_type": "code",
   "execution_count": 31,
   "metadata": {},
   "outputs": [],
   "source": [
    "## pickleで保存したファイルを読み込み\n",
    "import pickle\n",
    "\n",
    "with open(f'./SARIMAX/pickles/20240922-091947/vars.pickle', mode='rb') as fi:\n",
    "    data = pickle.load(fi)\n",
    "\n",
    "### 保存した変数を個別に取得 (全て '_loaded' を付けた形に変更)\n",
    "loaded_true_start_test_date = data['start_test_date']\n",
    "loaded_true_end_test_date = data['end_test_date']\n",
    "loaded_true_predict_timeline_list = data['predict_timeline_list']\n",
    "loaded_true_predict_value_list = data['predict_value_list']\n",
    "loaded_true_all_concated = data['all_concated']\n",
    "# loaded_true_train_days = data['train_days']  \n",
    "\n",
    "# マイナスの値をゼロに書き換える\n",
    "loaded_true_predict_value_list = [0 if x < 0 else x for x in loaded_true_predict_value_list]"
   ]
  },
  {
   "cell_type": "markdown",
   "metadata": {},
   "source": [
    "### Import vars from SARIMAX (without exo) pickle"
   ]
  },
  {
   "cell_type": "code",
   "execution_count": 32,
   "metadata": {},
   "outputs": [],
   "source": [
    "## pickleで保存したファイルを読み込み\n",
    "import pickle\n",
    "\n",
    "with open(f'./SARIMAX/pickles/20241015-221621/vars.pickle', mode='rb') as fi:\n",
    "    data = pickle.load(fi)\n",
    "\n",
    "### 保存した変数を個別に取得 (全て '_loaded' を付けた形に変更)\n",
    "loaded_false_start_test_date = data['start_test_date']\n",
    "loaded_false_end_test_date = data['end_test_date']\n",
    "loaded_false_predict_timeline_list = data['predict_timeline_list']\n",
    "loaded_false_predict_value_list = data['predict_value_list']\n",
    "# loaded_false_all_concated = data['all_concated']\n",
    "# loaded_false_train_days = data['train_days']  \n",
    "\n",
    "# マイナスの値をゼロに書き換える\n",
    "loaded_false_predict_value_list = [0 if x < 0 else x for x in loaded_false_predict_value_list]"
   ]
  },
  {
   "cell_type": "markdown",
   "metadata": {},
   "source": [
    "#### Set date"
   ]
  },
  {
   "cell_type": "code",
   "execution_count": 33,
   "metadata": {},
   "outputs": [],
   "source": [
    "from datetime import datetime\n",
    "\n",
    "train_start_date    = '2018-04-01 00:00:00'\n",
    "train_end_date      = '2018-06-30 23:59:59'\n",
    "test_start_date     = '2018-07-01 00:00:00'\n",
    "test_end_date       = '2018-07-11 23:59:59'\n",
    "\n",
    "train_st = datetime.strptime(train_start_date, '%Y-%m-%d %H:%M:%S')\n",
    "train_en = datetime.strptime(train_end_date, '%Y-%m-%d %H:%M:%S')\n",
    "test_st = datetime.strptime(test_start_date, '%Y-%m-%d %H:%M:%S')\n",
    "test_en = datetime.strptime(test_end_date, '%Y-%m-%d %H:%M:%S')\n",
    "\n",
    "train_pop = loaded_true_all_concated[train_st:train_en]['pop_hours']\n",
    "test_pop  = loaded_true_all_concated[test_st:test_en]['pop_hours']"
   ]
  },
  {
   "cell_type": "code",
   "execution_count": null,
   "metadata": {},
   "outputs": [],
   "source": [
    "import matplotlib.pyplot as plt\n",
    "\n",
    "fig, ax,  = plt.subplots(figsize=(8, 5))\n",
    "\n",
    "ax.plot(loaded_true_all_concated[test_st:test_en]['pop_hours'], label='Observed',color='lightgray')\n",
    "ax.plot(loaded_true_predict_timeline_list, loaded_true_predict_value_list, label='Forecasted by SARIMAX (with exo, train 180 days)',color='red')\n",
    "ax.plot(loaded_false_predict_timeline_list, loaded_false_predict_value_list, label='Forecasted by SARIMAX (without exo, train 180 days)',color='green')\n",
    "ax.set_ylim(-200, 1500)\n",
    "ax.set_title('Forecasted Population by SARIMAX')\n",
    "ax.set_ylabel('Population')\n",
    "ax.grid()\n",
    "ax.legend()\n",
    "\n",
    "import matplotlib.dates as mdates\n",
    "formatter = mdates.DateFormatter('%Y-%b-%d')  # 年-月形式で表示\n",
    "ax.xaxis.set_major_formatter(formatter)\n",
    "\n",
    "# グラフの表示\n",
    "# plt.tight_layout()  # レイアウトを自動調整\n",
    "plt.show()"
   ]
  },
  {
   "cell_type": "code",
   "execution_count": null,
   "metadata": {},
   "outputs": [],
   "source": [
    "print('red')\n",
    "Mape(loaded_true_predict_value_list,test_pop[:len(loaded_true_predict_value_list)])\n",
    "RMSE(loaded_true_predict_value_list,test_pop[:len(loaded_true_predict_value_list)])\n",
    "\n",
    "print('green')\n",
    "Mape(loaded_false_predict_value_list,test_pop[:len(loaded_true_predict_value_list)])\n",
    "RMSE(loaded_false_predict_value_list,test_pop[:len(loaded_true_predict_value_list)])"
   ]
  },
  {
   "cell_type": "markdown",
   "metadata": {},
   "source": [
    "# Compare"
   ]
  },
  {
   "cell_type": "code",
   "execution_count": null,
   "metadata": {},
   "outputs": [],
   "source": [
    "import matplotlib.pyplot as plt\n",
    "import matplotlib.dates as mdates\n",
    "\n",
    "# 2つのグラフを作成 (2行1列)\n",
    "fig, (ax1, ax2) = plt.subplots(2, 1, figsize=(8, 8),sharex=True)\n",
    "\n",
    "# 上のグラフ\n",
    "ax1.plot(loaded_true_all_concated[test_st:test_en]['pop_hours'], label='Observed',color='lightgray')\n",
    "ax1.plot(loaded_true_predict_timeline_list, loaded_true_predict_value_list, label='Forecasted by SARIMAX (with weather vars)',color='red')\n",
    "ax1.plot(df_true_LSTM_withexo_predicted, label='Forecasted by LSTM (with weather vars)',color='Green')\n",
    "ax1.set_ylim(-200, 1500)\n",
    "ax1.set_title('Forecasted Population')\n",
    "ax1.set_ylabel('Population')\n",
    "ax1.grid()\n",
    "ax1.legend()\n",
    "\n",
    "# 下のグラフ\n",
    "ax2.plot(loaded_true_all_concated[test_st:test_en]['y_precipitation'], label='Precipitation', color='blue')\n",
    "ax2.plot(loaded_true_all_concated[test_st:test_en]['y_windspeed'], label='Wind-speed', color='green')\n",
    "ax2.plot(loaded_true_all_concated[test_st:test_en]['y_temperature'], label='Temperature', color='orange')\n",
    "ax2.set_title('Weather Variables')\n",
    "ax2.set_ylabel('Values')\n",
    "ax2.grid()\n",
    "ax2.legend()\n",
    "\n",
    "\n",
    "# フォーマットを月単位に設定\n",
    "formatter = mdates.DateFormatter('%Y-%b-%d')  # 年-月形式で表示\n",
    "ax2.xaxis.set_major_formatter(formatter)\n",
    "\n",
    "# x軸のラベルを縦向きに回転\n",
    "# ax2.tick_params(axis='x', rotation=90)\n",
    "\n",
    "# 両方のグラフに共通のx軸ラベル\n",
    "# fig.supxlabel('Date')\n",
    "\n",
    "# グラフの表示\n",
    "plt.tight_layout()  # レイアウトを自動調整\n",
    "plt.show()\n"
   ]
  },
  {
   "cell_type": "code",
   "execution_count": null,
   "metadata": {},
   "outputs": [],
   "source": [
    "print('LSTM    with exo ')\n",
    "Mape(df_true_LSTM_withexo_predicted['pop'],df_test.iloc[-len(df_true_LSTM_withexo_predicted['pop']):,0])\n",
    "RMSE(df_true_LSTM_withexo_predicted['pop'],df_test.iloc[-len(df_true_LSTM_withexo_predicted['pop']):,0])\n",
    "print()\n",
    "\n",
    "print('SARIMAX with exo ')\n",
    "Mape(loaded_true_predict_value_list,test_pop[:263])\n",
    "RMSE(loaded_true_predict_value_list,test_pop[:263])"
   ]
  },
  {
   "cell_type": "code",
   "execution_count": null,
   "metadata": {},
   "outputs": [],
   "source": [
    "import matplotlib.pyplot as plt\n",
    "alpha=0.8\n",
    "\n",
    "# FigureとAxesを作成\n",
    "fig, ax = plt.subplots(figsize=(10, 6))  # Figureサイズの設定 (幅, 高さ)\n",
    "\n",
    "# データのプロット\n",
    "ax.plot(train_pop, label='Train',color='gray',alpha=alpha)\n",
    "ax.plot(test_pop, label='Test',color='lightgray',alpha=alpha)\n",
    "ax.plot(loaded_true_predict_timeline_list, loaded_true_predict_value_list, label='Forecasted by SARIMAX (with exo)',color='red',alpha=alpha)\n",
    "ax.plot(df_true_LSTM_withexo_predicted, label='Forecasted by LSTM (with exo)',color='Green')\n",
    "\n",
    "\n",
    "# y軸の範囲を設定\n",
    "ax.set_ylim(-200, 1500)\n",
    "\n",
    "# 凡例を表示\n",
    "ax.legend()\n",
    "ax.grid()\n",
    "ax.set_ylabel('Population')\n",
    "\n",
    "# グラフを表示\n",
    "plt.show()"
   ]
  },
  {
   "cell_type": "markdown",
   "metadata": {},
   "source": [
    "# BOX plot (LSTM)"
   ]
  },
  {
   "cell_type": "code",
   "execution_count": 17,
   "metadata": {},
   "outputs": [
    {
     "data": {
      "image/png": "[encoded data removed]",
      "text/plain": [
       "<Figure size 800x600 with 2 Axes>"
      ]
     },
     "metadata": {},
     "output_type": "display_data"
    }
   ],
   "source": [
    "import matplotlib.pyplot as plt\n",
    "import os\n",
    "import sys\n",
    "\n",
    "# 現在の作業ディレクトリを取得\n",
    "current_dir = os.getcwd()\n",
    "module_folder = 'sharing'\n",
    "module_path = os.path.join(current_dir, module_folder)\n",
    "\n",
    "sys.path.append(module_path)\n",
    "\n",
    "import evaluate\n",
    "\n",
    "# パスのリスト（合計12）\n",
    "paths = {\n",
    "    'L1_pop': './LSTM/pickles/L1_pop',\n",
    "    'L1_pop_split_20': './LSTM/pickles/L1_pop_split_20',\n",
    "    # 'L1_exo': './LSTM/pickles/L1_exo',\n",
    "    'L1_exo_split_20': './LSTM/pickles/L1_exo_split_20',\n",
    "    # 'L2_pop': './LSTM/pickles/L2_pop',\n",
    "    'L2_pop_split_20': './LSTM/pickles/L2_pop_split_20',\n",
    "    # 'L2_exo': './LSTM/pickles/L2_exo',\n",
    "    'L2_exo_split_20': './LSTM/pickles/L2_exo_split_20',\n",
    "    # 'L3_pop': './LSTM/pickles/L3_pop',\n",
    "    'L3_pop_split_20': './LSTM/pickles/L3_pop_split_20',\n",
    "    # 'L3_exo': './LSTM/pickles/L3_exo',\n",
    "    'L3_exo_split_20': './LSTM/pickles/L3_exo_split_20'\n",
    "}\n",
    "\n",
    "# 各モデルの評価メトリクスを格納するリスト\n",
    "list_rmse = []\n",
    "list_mape = []\n",
    "\n",
    "# 各パスに対してデータを取得\n",
    "for path_key, path_value in paths.items():\n",
    "    model = evaluate.MetricsExtractor(path_value)\n",
    "    list_rmse.append(model.rmse)\n",
    "    list_mape.append(model.mape)\n",
    "\n",
    "# プロットエリアの作成\n",
    "fig, (ax1, ax2) = plt.subplots(2, 1, sharex=True, figsize=(8, 6))\n",
    "\n",
    "# 上の図（RMSE）\n",
    "bp1 = ax1.boxplot(list_rmse)\n",
    "ax1.set_ylabel('RMSE Value')\n",
    "ax1.set_title('RMSE Comparison')\n",
    "ax1.grid()\n",
    "\n",
    "# 下の図（MAPE）\n",
    "bp2 = ax2.boxplot(list_mape)\n",
    "ax2.set_ylabel('MAPE Value [%]')\n",
    "ax2.set_xticks(range(1, len(paths) + 1))  # x軸の位置を明示的に指定\n",
    "ax2.set_xticklabels(paths.keys(), rotation=45, ha='right')  # ラベルを45度回転\n",
    "ax2.set_title('MAPE Comparison')\n",
    "ax2.grid()\n",
    "\n",
    "# プロット表示\n",
    "plt.tight_layout()\n",
    "plt.show()\n"
   ]
  },
  {
   "cell_type": "code",
   "execution_count": 9,
   "metadata": {},
   "outputs": [
    {
     "data": {
      "image/png": "[encoded data removed]",
      "text/plain": [
       "<Figure size 640x480 with 1 Axes>"
      ]
     },
     "metadata": {},
     "output_type": "display_data"
    }
   ],
   "source": [
    "%matplotlib inline \n",
    "import matplotlib.pyplot as plt\n",
    "\n",
    "# リスト1とリスト2を作成\n",
    "list_layer1 = [95.2,100.7,84.3,99.3,102.4,87.3]\n",
    "list_layer2 = [104.5,104.9,97.1,95.3,102.7,100.8]\n",
    "list_layer1_without = [89.8,85.4,90.2,88.1,82.8,84.7]\n",
    "list_layer2_without = [83.5,85.5,84.7,83.5,94.4,80.9]\n",
    "\n",
    "# 点数のタプル\n",
    "points = (list_layer1, list_layer2,list_layer1_without,list_layer2_without)\n",
    "\n",
    "# 箱ひげ図\n",
    "fig, ax = plt.subplots()\n",
    "\n",
    "# 複数リストをタプルで渡す\n",
    "bp = ax.boxplot(points)\n",
    "\n",
    "# X軸のラベルを設定\n",
    "ax.set_xticklabels(['LSTM-Layer-1_with_exo', 'LSTM-Layer-2_with_exo','LSTM-Layer-1_without_exo','LSTM-Layer-2_without_exo'],rotation=90)\n",
    "\n",
    "# タイトルを設定\n",
    "plt.title('Number of each data : 6')\n",
    "\n",
    "# グリッドを追加\n",
    "plt.grid()\n",
    "plt.ylabel('MAPE Value [%]')\n",
    "\n",
    "# 描画\n",
    "plt.show()"
   ]
  }
 ],
 "metadata": {
  "kernelspec": {
   "display_name": "Python 3",
   "language": "python",
   "name": "python3"
  },
  "language_info": {
   "codemirror_mode": {
    "name": "ipython",
    "version": 3
   },
   "file_extension": ".py",
   "mimetype": "text/x-python",
   "name": "python",
   "nbconvert_exporter": "python",
   "pygments_lexer": "ipython3",
   "version": "3.10.12"
  }
 },
 "nbformat": 4,
 "nbformat_minor": 2
}
