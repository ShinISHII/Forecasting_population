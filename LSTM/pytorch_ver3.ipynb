{
 "cells": [
  {
   "cell_type": "markdown",
   "metadata": {},
   "source": [
    "# Import variables"
   ]
  },
  {
   "cell_type": "markdown",
   "metadata": {},
   "source": [
    "参考\n",
    "\n",
    "https://disassemble-channel.com/lstm-multivariate-time-series/"
   ]
  },
  {
   "cell_type": "code",
   "execution_count": 1,
   "metadata": {},
   "outputs": [],
   "source": [
    "template1=(8, 5) # figサイズのテンプレート\n",
    "\n",
    "# exDataIsAll=True  \n",
    "exDataIsAll=False\n",
    "\n",
    "num_of_lstm_layer = 1\n",
    "\n",
    "epochs=30\n",
    "window_size=24"
   ]
  },
  {
   "cell_type": "code",
   "execution_count": 2,
   "metadata": {},
   "outputs": [],
   "source": [
    "import datetime\n",
    "import os\n",
    "# 実行ごとにディレクトリを作成\n",
    "start_time = datetime.datetime.now()\n",
    "dir_str = start_time.strftime('%Y%m%d-%H%M-%S')   #20240914-1930-00\n",
    "directory = f'./pickles/{dir_str}/'\n",
    "\n",
    "# ディレクトリが存在しない場合は作成\n",
    "os.makedirs(directory, exist_ok=True)"
   ]
  },
  {
   "cell_type": "markdown",
   "metadata": {},
   "source": [
    "## Date"
   ]
  },
  {
   "cell_type": "code",
   "execution_count": 3,
   "metadata": {},
   "outputs": [],
   "source": [
    "# # 訓練期間とテスト期間を日付で指定\n",
    "\n",
    "## 2022年-豪雨\n",
    "# train_start_date    = '2016-01-01 00:00:00'\n",
    "# train_end_date      = '2022-09-14 23:59:59'\n",
    "# test_start_date     = '2022-09-15 00:00:00'\n",
    "# test_end_date       = '2022-09-21 23:59:59'\n",
    "\n",
    "\n",
    "## 2021年-豪雨\n",
    "# train_start_date    = '2016-01-01 00:00:00'\n",
    "# train_end_date      = '2021-08-09 23:59:59'\n",
    "# test_start_date     = '2021-08-10 00:00:00'\n",
    "# test_end_date       = '2021-08-16 23:59:59'\n",
    "\n",
    "\n",
    "## 2018年-豪雨\n",
    "train_start_date    = '2016-01-01 00:00:00'\n",
    "train_end_date      = '2018-06-30 23:59:59'\n",
    "test_start_date     = '2018-07-01 00:00:00'\n",
    "test_end_date       = '2018-07-11 23:59:59'"
   ]
  },
  {
   "cell_type": "code",
   "execution_count": 4,
   "metadata": {},
   "outputs": [
    {
     "name": "stdout",
     "output_type": "stream",
     "text": [
      "2016-01-01 00:00:00 \t→\t 2018-07-11 23:59:59\n",
      "201601010000 \t\t→\t 201807112359\n"
     ]
    }
   ],
   "source": [
    "### 日付加工：外部変数を読みたるため\n",
    "split_date = test_start_date\n",
    "\n",
    "date_st = train_start_date[0:4]+train_start_date[5:7]+train_start_date[8:10]+train_start_date[11:13]+train_start_date[14:16]\n",
    "date_en = test_end_date[0:4]+test_end_date[5:7]+test_end_date[8:10]+test_end_date[11:13]+test_end_date[14:16]\n",
    "\n",
    "print(train_start_date,'\\t→\\t',test_end_date)\n",
    "print(date_st,'\\t\\t→\\t',date_en)"
   ]
  },
  {
   "cell_type": "markdown",
   "metadata": {},
   "source": [
    "## Mesh ID"
   ]
  },
  {
   "cell_type": "code",
   "execution_count": 5,
   "metadata": {},
   "outputs": [
    {
     "name": "stdout",
     "output_type": "stream",
     "text": [
      "\n",
      "6 areas in total: ['513375262', '513375264', '513375653', '513375753', '513375761', '513375763']\n"
     ]
    }
   ],
   "source": [
    "import pandas as pd\n",
    "PATH_mesh = '../csv_data/meshID/ID_Kurashiki_Mabicho_shelter.csv'\n",
    "df = pd.read_csv(PATH_mesh)\n",
    "\n",
    "# KEY_CODEを追加していく\n",
    "areas = []\n",
    "for area in df['KEY_CODE']:\n",
    "    # print(area)\n",
    "    areas.append(area)\n",
    "\n",
    "print()\n",
    "# print(f'{len(areas)} areas in total：{areas}')\n",
    "\n",
    "# SQLで送信するようにデータを加工\n",
    "areas_str=''\n",
    "for k in areas:\n",
    "    areas_str+=(str(k)+',')\n",
    "areas_str=areas_str[:-1]  #最後の一文字に余分なカンマが入っているのでその部分を除いて変数を更新\n",
    "areas_list = areas_str.split(',')\n",
    "\n",
    "print(f'{len(areas_list)} areas in total: {areas_list}')\n"
   ]
  },
  {
   "cell_type": "code",
   "execution_count": 6,
   "metadata": {},
   "outputs": [],
   "source": [
    "areas_list=['513375763']"
   ]
  },
  {
   "cell_type": "markdown",
   "metadata": {},
   "source": [
    "## Import Population data"
   ]
  },
  {
   "cell_type": "code",
   "execution_count": 7,
   "metadata": {},
   "outputs": [
    {
     "name": "stdout",
     "output_type": "stream",
     "text": [
      "    Train(\t2016-01-01\t→\t2018-06-30)\n",
      "    Test(\t2018-07-01\t→\t2018-07-11)\n"
     ]
    },
    {
     "name": "stderr",
     "output_type": "stream",
     "text": [
      "/tmp/ipykernel_2636596/1279399228.py:40: UserWarning: pandas only supports SQLAlchemy connectable (engine/connection) or database string URI or sqlite3 DBAPI2 connection. Other DBAPI2 objects are not tested. Please consider using SQLAlchemy.\n",
      "  df_pop = pd.read_sql(sql=sql_query, con=connection)\n"
     ]
    },
    {
     "data": {
      "text/html": [
       "<div>\n",
       "<style scoped>\n",
       "    .dataframe tbody tr th:only-of-type {\n",
       "        vertical-align: middle;\n",
       "    }\n",
       "\n",
       "    .dataframe tbody tr th {\n",
       "        vertical-align: top;\n",
       "    }\n",
       "\n",
       "    .dataframe thead th {\n",
       "        text-align: right;\n",
       "    }\n",
       "</style>\n",
       "<table border=\"1\" class=\"dataframe\">\n",
       "  <thead>\n",
       "    <tr style=\"text-align: right;\">\n",
       "      <th></th>\n",
       "      <th>datetime</th>\n",
       "      <th>population</th>\n",
       "    </tr>\n",
       "  </thead>\n",
       "  <tbody>\n",
       "    <tr>\n",
       "      <th>0</th>\n",
       "      <td>2016-01-01 00:00:00</td>\n",
       "      <td>72</td>\n",
       "    </tr>\n",
       "    <tr>\n",
       "      <th>1</th>\n",
       "      <td>2016-01-01 01:00:00</td>\n",
       "      <td>96</td>\n",
       "    </tr>\n",
       "    <tr>\n",
       "      <th>2</th>\n",
       "      <td>2016-01-01 02:00:00</td>\n",
       "      <td>141</td>\n",
       "    </tr>\n",
       "    <tr>\n",
       "      <th>3</th>\n",
       "      <td>2016-01-01 03:00:00</td>\n",
       "      <td>119</td>\n",
       "    </tr>\n",
       "    <tr>\n",
       "      <th>4</th>\n",
       "      <td>2016-01-01 04:00:00</td>\n",
       "      <td>142</td>\n",
       "    </tr>\n",
       "    <tr>\n",
       "      <th>...</th>\n",
       "      <td>...</td>\n",
       "      <td>...</td>\n",
       "    </tr>\n",
       "    <tr>\n",
       "      <th>22141</th>\n",
       "      <td>2018-07-11 19:00:00</td>\n",
       "      <td>36</td>\n",
       "    </tr>\n",
       "    <tr>\n",
       "      <th>22142</th>\n",
       "      <td>2018-07-11 20:00:00</td>\n",
       "      <td>20</td>\n",
       "    </tr>\n",
       "    <tr>\n",
       "      <th>22143</th>\n",
       "      <td>2018-07-11 21:00:00</td>\n",
       "      <td>56</td>\n",
       "    </tr>\n",
       "    <tr>\n",
       "      <th>22144</th>\n",
       "      <td>2018-07-11 22:00:00</td>\n",
       "      <td>77</td>\n",
       "    </tr>\n",
       "    <tr>\n",
       "      <th>22145</th>\n",
       "      <td>2018-07-11 23:00:00</td>\n",
       "      <td>77</td>\n",
       "    </tr>\n",
       "  </tbody>\n",
       "</table>\n",
       "<p>22146 rows × 2 columns</p>\n",
       "</div>"
      ],
      "text/plain": [
       "                 datetime  population\n",
       "0     2016-01-01 00:00:00          72\n",
       "1     2016-01-01 01:00:00          96\n",
       "2     2016-01-01 02:00:00         141\n",
       "3     2016-01-01 03:00:00         119\n",
       "4     2016-01-01 04:00:00         142\n",
       "...                   ...         ...\n",
       "22141 2018-07-11 19:00:00          36\n",
       "22142 2018-07-11 20:00:00          20\n",
       "22143 2018-07-11 21:00:00          56\n",
       "22144 2018-07-11 22:00:00          77\n",
       "22145 2018-07-11 23:00:00          77\n",
       "\n",
       "[22146 rows x 2 columns]"
      ]
     },
     "execution_count": 7,
     "metadata": {},
     "output_type": "execute_result"
    }
   ],
   "source": [
    "import pandas as pd\n",
    "import psycopg2\n",
    "import datetime\n",
    "import matplotlib.pyplot as plt\n",
    "\n",
    "#　print用の名前をつけているだけ\n",
    "name_trainPeriod='    Train(\\t'+train_start_date[0:10]+'\\t→\\t'+train_end_date[0:10]+')'\n",
    "print(name_trainPeriod)\n",
    "name_testPeriod='    Test(\\t'+test_start_date[0:10]+'\\t→\\t'+test_end_date[0:10]+')'\n",
    "print(name_testPeriod)\n",
    "\n",
    "\n",
    "\n",
    "# データベースの接続情報\n",
    "connection_config = {\n",
    "    'user': 'shin',\n",
    "    'password': 'shin_password',\n",
    "    'port': '5432',\n",
    "    'database': 'mobaku_base',\n",
    "    'host': '10.33.230.198'\n",
    "}\n",
    "connection = psycopg2.connect(**connection_config)\n",
    "\n",
    "with connection.cursor() as cursor:\n",
    "    cursor.execute(\"SET pg_strom.enabled=off;\")\n",
    "    connection.commit()\n",
    "\n",
    "\n",
    "# データを取得（datetimeごとのpopulation合計を計算）\n",
    "sql_query = f\"\"\"\n",
    "SELECT datetime, SUM(population) AS population\n",
    "FROM population_00000\n",
    "WHERE mesh_id IN ({','.join(areas_list)})\n",
    "AND datetime BETWEEN '{train_start_date}' AND '{test_end_date}'\n",
    "GROUP BY datetime\n",
    "ORDER BY datetime;\n",
    "\"\"\"\n",
    "\n",
    "\n",
    "df_pop = pd.read_sql(sql=sql_query, con=connection)\n",
    "# datetime列をdatetime型に変換\n",
    "df_pop['datetime'] = pd.to_datetime(df_pop['datetime'])\n",
    "\n",
    "# データフレームの表示\n",
    "df_pop"
   ]
  },
  {
   "cell_type": "markdown",
   "metadata": {},
   "source": [
    "## Import exogenous data (weather)"
   ]
  },
  {
   "cell_type": "code",
   "execution_count": 8,
   "metadata": {},
   "outputs": [
    {
     "data": {
      "text/html": [
       "<div>\n",
       "<style scoped>\n",
       "    .dataframe tbody tr th:only-of-type {\n",
       "        vertical-align: middle;\n",
       "    }\n",
       "\n",
       "    .dataframe tbody tr th {\n",
       "        vertical-align: top;\n",
       "    }\n",
       "\n",
       "    .dataframe thead th {\n",
       "        text-align: right;\n",
       "    }\n",
       "</style>\n",
       "<table border=\"1\" class=\"dataframe\">\n",
       "  <thead>\n",
       "    <tr style=\"text-align: right;\">\n",
       "      <th></th>\n",
       "      <th>prec</th>\n",
       "      <th>temp</th>\n",
       "      <th>wind</th>\n",
       "    </tr>\n",
       "    <tr>\n",
       "      <th>datetime</th>\n",
       "      <th></th>\n",
       "      <th></th>\n",
       "      <th></th>\n",
       "    </tr>\n",
       "  </thead>\n",
       "  <tbody>\n",
       "    <tr>\n",
       "      <th>2016-01-01 00:00:00</th>\n",
       "      <td>0.0</td>\n",
       "      <td>3.0</td>\n",
       "      <td>0.9</td>\n",
       "    </tr>\n",
       "    <tr>\n",
       "      <th>2016-01-01 01:00:00</th>\n",
       "      <td>0.0</td>\n",
       "      <td>2.0</td>\n",
       "      <td>0.3</td>\n",
       "    </tr>\n",
       "    <tr>\n",
       "      <th>2016-01-01 02:00:00</th>\n",
       "      <td>0.0</td>\n",
       "      <td>1.7</td>\n",
       "      <td>0.6</td>\n",
       "    </tr>\n",
       "    <tr>\n",
       "      <th>2016-01-01 03:00:00</th>\n",
       "      <td>0.0</td>\n",
       "      <td>0.9</td>\n",
       "      <td>0.3</td>\n",
       "    </tr>\n",
       "    <tr>\n",
       "      <th>2016-01-01 04:00:00</th>\n",
       "      <td>0.0</td>\n",
       "      <td>1.0</td>\n",
       "      <td>1.0</td>\n",
       "    </tr>\n",
       "    <tr>\n",
       "      <th>...</th>\n",
       "      <td>...</td>\n",
       "      <td>...</td>\n",
       "      <td>...</td>\n",
       "    </tr>\n",
       "    <tr>\n",
       "      <th>2018-07-11 19:00:00</th>\n",
       "      <td>0.0</td>\n",
       "      <td>26.8</td>\n",
       "      <td>1.1</td>\n",
       "    </tr>\n",
       "    <tr>\n",
       "      <th>2018-07-11 20:00:00</th>\n",
       "      <td>0.0</td>\n",
       "      <td>26.5</td>\n",
       "      <td>0.1</td>\n",
       "    </tr>\n",
       "    <tr>\n",
       "      <th>2018-07-11 21:00:00</th>\n",
       "      <td>0.0</td>\n",
       "      <td>26.6</td>\n",
       "      <td>1.0</td>\n",
       "    </tr>\n",
       "    <tr>\n",
       "      <th>2018-07-11 22:00:00</th>\n",
       "      <td>0.0</td>\n",
       "      <td>26.3</td>\n",
       "      <td>1.2</td>\n",
       "    </tr>\n",
       "    <tr>\n",
       "      <th>2018-07-11 23:00:00</th>\n",
       "      <td>0.0</td>\n",
       "      <td>26.2</td>\n",
       "      <td>0.4</td>\n",
       "    </tr>\n",
       "  </tbody>\n",
       "</table>\n",
       "<p>22152 rows × 3 columns</p>\n",
       "</div>"
      ],
      "text/plain": [
       "                     prec  temp  wind\n",
       "datetime                             \n",
       "2016-01-01 00:00:00   0.0   3.0   0.9\n",
       "2016-01-01 01:00:00   0.0   2.0   0.3\n",
       "2016-01-01 02:00:00   0.0   1.7   0.6\n",
       "2016-01-01 03:00:00   0.0   0.9   0.3\n",
       "2016-01-01 04:00:00   0.0   1.0   1.0\n",
       "...                   ...   ...   ...\n",
       "2018-07-11 19:00:00   0.0  26.8   1.1\n",
       "2018-07-11 20:00:00   0.0  26.5   0.1\n",
       "2018-07-11 21:00:00   0.0  26.6   1.0\n",
       "2018-07-11 22:00:00   0.0  26.3   1.2\n",
       "2018-07-11 23:00:00   0.0  26.2   0.4\n",
       "\n",
       "[22152 rows x 3 columns]"
      ]
     },
     "execution_count": 8,
     "metadata": {},
     "output_type": "execute_result"
    }
   ],
   "source": [
    "import pandas as pd\n",
    "path_weather='../csv_data/amedas_data/kurashiki/output/weather_exo.pickle'\n",
    "df_weather_all=pd.read_pickle(path_weather)\n",
    "df_weather=df_weather_all[train_start_date:test_end_date]\n",
    "df_weather"
   ]
  },
  {
   "cell_type": "markdown",
   "metadata": {},
   "source": [
    "データを正規化してリスト型に入れる\n",
    "\n",
    "以下の変数は全てグラフ用．計算に用いない\n",
    "．"
   ]
  },
  {
   "cell_type": "code",
   "execution_count": 9,
   "metadata": {},
   "outputs": [
    {
     "name": "stdout",
     "output_type": "stream",
     "text": [
      "22146\n",
      "22152\n",
      "22152\n",
      "22152\n"
     ]
    }
   ],
   "source": [
    "def normalize(list_x):\n",
    "    max_val = max(list_x)\n",
    "    min_val = min(list_x)\n",
    "    \n",
    "    return [((i-min_val)/(max_val-min_val)) for i in list_x]\n",
    "\n",
    "y_population_normalize    = normalize(df_pop['population'].values)\n",
    "y_precipitation_normalize = normalize(df_weather['prec'])\n",
    "y_windspeed_normalize     = normalize(df_weather['wind'])\n",
    "y_temperature_normalize   = normalize(df_weather['temp'])\n",
    "\n",
    "print(len(y_population_normalize))\n",
    "print(len(y_precipitation_normalize))\n",
    "print(len(y_windspeed_normalize))\n",
    "print(len(y_temperature_normalize))"
   ]
  },
  {
   "cell_type": "markdown",
   "metadata": {},
   "source": [
    "## Import exogenous data (warnings/advisories)"
   ]
  },
  {
   "cell_type": "code",
   "execution_count": 10,
   "metadata": {},
   "outputs": [
    {
     "data": {
      "text/html": [
       "<div>\n",
       "<style scoped>\n",
       "    .dataframe tbody tr th:only-of-type {\n",
       "        vertical-align: middle;\n",
       "    }\n",
       "\n",
       "    .dataframe tbody tr th {\n",
       "        vertical-align: top;\n",
       "    }\n",
       "\n",
       "    .dataframe thead th {\n",
       "        text-align: right;\n",
       "    }\n",
       "</style>\n",
       "<table border=\"1\" class=\"dataframe\">\n",
       "  <thead>\n",
       "    <tr style=\"text-align: right;\">\n",
       "      <th></th>\n",
       "      <th>雷注意報</th>\n",
       "      <th>大雨注意報</th>\n",
       "      <th>洪水注意報</th>\n",
       "      <th>強風注意報</th>\n",
       "      <th>大雨警報</th>\n",
       "      <th>洪水警報</th>\n",
       "      <th>暴風警報</th>\n",
       "      <th>大雨特別警報</th>\n",
       "    </tr>\n",
       "    <tr>\n",
       "      <th>time</th>\n",
       "      <th></th>\n",
       "      <th></th>\n",
       "      <th></th>\n",
       "      <th></th>\n",
       "      <th></th>\n",
       "      <th></th>\n",
       "      <th></th>\n",
       "      <th></th>\n",
       "    </tr>\n",
       "  </thead>\n",
       "  <tbody>\n",
       "    <tr>\n",
       "      <th>2016-01-01 00:00:00</th>\n",
       "      <td>0.000000</td>\n",
       "      <td>0.0</td>\n",
       "      <td>0.0</td>\n",
       "      <td>0.0</td>\n",
       "      <td>0.0</td>\n",
       "      <td>0.0</td>\n",
       "      <td>0.0</td>\n",
       "      <td>0.0</td>\n",
       "    </tr>\n",
       "    <tr>\n",
       "      <th>2016-01-01 01:00:00</th>\n",
       "      <td>0.000000</td>\n",
       "      <td>0.0</td>\n",
       "      <td>0.0</td>\n",
       "      <td>0.0</td>\n",
       "      <td>0.0</td>\n",
       "      <td>0.0</td>\n",
       "      <td>0.0</td>\n",
       "      <td>0.0</td>\n",
       "    </tr>\n",
       "    <tr>\n",
       "      <th>2016-01-01 02:00:00</th>\n",
       "      <td>0.000000</td>\n",
       "      <td>0.0</td>\n",
       "      <td>0.0</td>\n",
       "      <td>0.0</td>\n",
       "      <td>0.0</td>\n",
       "      <td>0.0</td>\n",
       "      <td>0.0</td>\n",
       "      <td>0.0</td>\n",
       "    </tr>\n",
       "    <tr>\n",
       "      <th>2016-01-01 03:00:00</th>\n",
       "      <td>0.000000</td>\n",
       "      <td>0.0</td>\n",
       "      <td>0.0</td>\n",
       "      <td>0.0</td>\n",
       "      <td>0.0</td>\n",
       "      <td>0.0</td>\n",
       "      <td>0.0</td>\n",
       "      <td>0.0</td>\n",
       "    </tr>\n",
       "    <tr>\n",
       "      <th>2016-01-01 04:00:00</th>\n",
       "      <td>0.000000</td>\n",
       "      <td>0.0</td>\n",
       "      <td>0.0</td>\n",
       "      <td>0.0</td>\n",
       "      <td>0.0</td>\n",
       "      <td>0.0</td>\n",
       "      <td>0.0</td>\n",
       "      <td>0.0</td>\n",
       "    </tr>\n",
       "    <tr>\n",
       "      <th>...</th>\n",
       "      <td>...</td>\n",
       "      <td>...</td>\n",
       "      <td>...</td>\n",
       "      <td>...</td>\n",
       "      <td>...</td>\n",
       "      <td>...</td>\n",
       "      <td>...</td>\n",
       "      <td>...</td>\n",
       "    </tr>\n",
       "    <tr>\n",
       "      <th>2018-07-11 19:00:00</th>\n",
       "      <td>1.000000</td>\n",
       "      <td>0.0</td>\n",
       "      <td>0.0</td>\n",
       "      <td>0.0</td>\n",
       "      <td>0.0</td>\n",
       "      <td>1.0</td>\n",
       "      <td>0.0</td>\n",
       "      <td>0.0</td>\n",
       "    </tr>\n",
       "    <tr>\n",
       "      <th>2018-07-11 20:00:00</th>\n",
       "      <td>1.000000</td>\n",
       "      <td>0.0</td>\n",
       "      <td>0.0</td>\n",
       "      <td>0.0</td>\n",
       "      <td>0.0</td>\n",
       "      <td>1.0</td>\n",
       "      <td>0.0</td>\n",
       "      <td>0.0</td>\n",
       "    </tr>\n",
       "    <tr>\n",
       "      <th>2018-07-11 21:00:00</th>\n",
       "      <td>0.216667</td>\n",
       "      <td>0.0</td>\n",
       "      <td>0.0</td>\n",
       "      <td>0.0</td>\n",
       "      <td>0.0</td>\n",
       "      <td>1.0</td>\n",
       "      <td>0.0</td>\n",
       "      <td>0.0</td>\n",
       "    </tr>\n",
       "    <tr>\n",
       "      <th>2018-07-11 22:00:00</th>\n",
       "      <td>0.000000</td>\n",
       "      <td>0.0</td>\n",
       "      <td>0.0</td>\n",
       "      <td>0.0</td>\n",
       "      <td>0.0</td>\n",
       "      <td>1.0</td>\n",
       "      <td>0.0</td>\n",
       "      <td>0.0</td>\n",
       "    </tr>\n",
       "    <tr>\n",
       "      <th>2018-07-11 23:00:00</th>\n",
       "      <td>0.000000</td>\n",
       "      <td>0.0</td>\n",
       "      <td>0.0</td>\n",
       "      <td>0.0</td>\n",
       "      <td>0.0</td>\n",
       "      <td>1.0</td>\n",
       "      <td>0.0</td>\n",
       "      <td>0.0</td>\n",
       "    </tr>\n",
       "  </tbody>\n",
       "</table>\n",
       "<p>22152 rows × 8 columns</p>\n",
       "</div>"
      ],
      "text/plain": [
       "                         雷注意報  大雨注意報  洪水注意報  強風注意報  大雨警報  洪水警報  暴風警報  大雨特別警報\n",
       "time                                                                        \n",
       "2016-01-01 00:00:00  0.000000    0.0    0.0    0.0   0.0   0.0   0.0     0.0\n",
       "2016-01-01 01:00:00  0.000000    0.0    0.0    0.0   0.0   0.0   0.0     0.0\n",
       "2016-01-01 02:00:00  0.000000    0.0    0.0    0.0   0.0   0.0   0.0     0.0\n",
       "2016-01-01 03:00:00  0.000000    0.0    0.0    0.0   0.0   0.0   0.0     0.0\n",
       "2016-01-01 04:00:00  0.000000    0.0    0.0    0.0   0.0   0.0   0.0     0.0\n",
       "...                       ...    ...    ...    ...   ...   ...   ...     ...\n",
       "2018-07-11 19:00:00  1.000000    0.0    0.0    0.0   0.0   1.0   0.0     0.0\n",
       "2018-07-11 20:00:00  1.000000    0.0    0.0    0.0   0.0   1.0   0.0     0.0\n",
       "2018-07-11 21:00:00  0.216667    0.0    0.0    0.0   0.0   1.0   0.0     0.0\n",
       "2018-07-11 22:00:00  0.000000    0.0    0.0    0.0   0.0   1.0   0.0     0.0\n",
       "2018-07-11 23:00:00  0.000000    0.0    0.0    0.0   0.0   1.0   0.0     0.0\n",
       "\n",
       "[22152 rows x 8 columns]"
      ]
     },
     "execution_count": 10,
     "metadata": {},
     "output_type": "execute_result"
    }
   ],
   "source": [
    "import pickle\n",
    "\n",
    "# 日本語フォントを可能にするアイテム\n",
    "from matplotlib import rcParams\n",
    "rcParams['font.family'] = 'Noto Sans CJK JP'\n",
    "\n",
    "# pickleで保存したファイルを読み込み\n",
    "warning_path = '../html/kurashiki/output/warning_list.pickle'\n",
    "with open(warning_path, mode='rb') as fi:\n",
    "    data = pickle.load(fi)\n",
    "\n",
    "df_warnings_tmp = data['combined_df']\n",
    "\n",
    "# データを指定した期間でフィルタリング\n",
    "df_warnings = df_warnings_tmp.loc[train_start_date:test_end_date]\n",
    "\n",
    "timeLine=df_warnings.index\n",
    "df_warnings"
   ]
  },
  {
   "cell_type": "markdown",
   "metadata": {},
   "source": [
    "## vars check"
   ]
  },
  {
   "cell_type": "code",
   "execution_count": 11,
   "metadata": {},
   "outputs": [
    {
     "data": {
      "text/plain": [
       "22146"
      ]
     },
     "execution_count": 11,
     "metadata": {},
     "output_type": "execute_result"
    }
   ],
   "source": [
    "len(y_population_normalize)"
   ]
  },
  {
   "cell_type": "code",
   "execution_count": 12,
   "metadata": {},
   "outputs": [],
   "source": [
    "# import matplotlib.pyplot as plt\n",
    "# import matplotlib.dates as mdates\n",
    "\n",
    "# # Figureのサイズを指定し、2つの軸を作成\n",
    "# fig, (ax1, ax2) = plt.subplots(2, 1, figsize=(10,10), sharex=True)  # 2段にして横軸を揃える\n",
    "\n",
    "# # アルファ値の設定\n",
    "# alpha = 0.7\n",
    "\n",
    "# # 時間範囲のインデックスを特定\n",
    "# train_index = [i for i, t in enumerate(timeLine) if train_start_date <= t.strftime('%Y-%m-%d %H:%M:%S') <= train_end_date]\n",
    "# test_index = [i for i, t in enumerate(timeLine) if test_start_date <= t.strftime('%Y-%m-%d %H:%M:%S') <= test_end_date]\n",
    "\n",
    "# # 上段：人口データの訓練期間とテスト期間の表示を色分け\n",
    "# ax1.plot_date([timeLine[i] for i in train_index], \n",
    "#               [y_population_normalize[i] for i in train_index], \n",
    "#               '-', label='population (train)', color='gray', linewidth=0.8, alpha=1.0)\n",
    "\n",
    "# ax1.plot_date([timeLine[i] for i in test_index], \n",
    "#               [y_population_normalize[i] for i in test_index], \n",
    "#               '-', label='population (test)', color='lightgray', linewidth=0.8, alpha=1.0)\n",
    "\n",
    "# # グラフの装飾\n",
    "# ax1.legend(loc='lower left', ncol=1)  # 1列にして左下に表示\n",
    "# ax1.grid()\n",
    "# ax1.set_title('Population')  # 上段グラフのタイトルを設定\n",
    "# ax1.set_ylabel('Normalized Population')  # y軸のラベル\n",
    "\n",
    "# # 下段：風速、気温、降水量を表示\n",
    "# ax2.plot_date(timeLine[:], y_windspeed_normalize[:], '-', label='wind speed', color='green', linewidth=0.8, alpha=alpha)\n",
    "# ax2.plot_date(timeLine[:], y_temperature_normalize[:], '-', label='temperature', color='orange', linewidth=0.8, alpha=alpha)\n",
    "# ax2.plot_date(timeLine[:], y_precipitation_normalize[:], '-', label='precipitation', color='blue', linewidth=0.8, alpha=alpha)\n",
    "\n",
    "# # グラフの装飾\n",
    "# ax2.legend(loc='upper left',ncol=1)  # 左上に設定\n",
    "# ax2.grid()\n",
    "# ax2.set_title('Exogenous Variables')  # 下段グラフのタイトルを設定\n",
    "# ax2.set_ylabel('Normalized Values')  # y軸のラベル\n",
    "\n",
    "# # フォーマットを月単位に設定\n",
    "# formatter = mdates.DateFormatter('%Y-%b')  # 年-月形式で表示\n",
    "# ax2.xaxis.set_major_formatter(formatter)\n",
    "\n",
    "# # x軸のラベルを縦向きに回転\n",
    "# # ax2.tick_params(axis='x', rotation=90)\n",
    "\n",
    "# # 両方のグラフに共通のx軸ラベル\n",
    "# # fig.supxlabel('Date')\n",
    "\n",
    "# # グラフの表示\n",
    "# plt.tight_layout()  # レイアウト調整\n",
    "\n",
    "# plt.show()"
   ]
  },
  {
   "cell_type": "code",
   "execution_count": 13,
   "metadata": {},
   "outputs": [
    {
     "data": {
      "image/png": "[encoded data removed]",
      "text/plain": [
       "<Figure size 800x500 with 2 Axes>"
      ]
     },
     "metadata": {},
     "output_type": "display_data"
    }
   ],
   "source": [
    "import matplotlib.pyplot as plt\n",
    "import matplotlib.dates as mdates\n",
    "\n",
    "# 任意の期間設定（例: 最後のxx日間）\n",
    "xx = 10\n",
    "subset_start = -xx * 24  # xx日間分のデータ（時間単位で扱う場合）\n",
    "\n",
    "# 2行1列のグラフを作成（任意の期間のみ表示）\n",
    "fig, (ax1, ax2) = plt.subplots(2, 1, figsize=template1, sharex=True)\n",
    "\n",
    "# アルファ値の設定\n",
    "alpha = 0.8\n",
    "\n",
    "### 上段：任意の期間（最後のxx日間）の人口データ\n",
    "ax1.plot_date(timeLine[subset_start:], y_population_normalize[subset_start:], '-', label='population', color='gray', linewidth=0.8, alpha=alpha)\n",
    "ax1.legend()\n",
    "ax1.grid()\n",
    "ax1.set_title(f'Population (Last {xx} Days)')\n",
    "ax1.set_ylabel('Normalized Population')  # y軸のラベル\n",
    "\n",
    "### 下段：任意の期間（最後のxx日間）の気象データ（風速、気温、降水量）\n",
    "ax2.plot_date(timeLine[subset_start:], y_windspeed_normalize[subset_start:], '-', label='wind speed', color='green', linewidth=0.8, alpha=alpha)\n",
    "ax2.plot_date(timeLine[subset_start:], y_temperature_normalize[subset_start:], '-', label='temperature', color='orange', linewidth=0.8, alpha=alpha)\n",
    "ax2.plot_date(timeLine[subset_start:], y_precipitation_normalize[subset_start:], '-', label='precipitation', color='blue', linewidth=0.8, alpha=alpha)\n",
    "ax2.legend()\n",
    "ax2.grid()\n",
    "ax2.set_title(f'Exogenous Variables (Last {xx} Days)')\n",
    "ax2.set_ylabel('Normalized Values')\n",
    "\n",
    "# 横軸の設定（期間のフォーマット）\n",
    "locator = mdates.DayLocator(interval=1)  # 1日単位で表示\n",
    "formatter = mdates.DateFormatter('%Y-%b-%d')  # 年-月-日形式で表示\n",
    "\n",
    "# 日付のフォーマットを設定\n",
    "ax2.xaxis.set_major_locator(locator)\n",
    "ax2.xaxis.set_major_formatter(formatter)\n",
    "\n",
    "# x軸のラベルを縦向きに回転\n",
    "ax2.tick_params(axis='x', rotation=90)\n",
    "\n",
    "# x軸のラベルを表示\n",
    "fig.supxlabel('Date')\n",
    "\n",
    "# レイアウトの調整\n",
    "plt.tight_layout()\n",
    "plt.show()"
   ]
  },
  {
   "cell_type": "markdown",
   "metadata": {},
   "source": [
    "呼び出した外生変数を統合したdataframeを作成"
   ]
  },
  {
   "cell_type": "code",
   "execution_count": 14,
   "metadata": {},
   "outputs": [
    {
     "name": "stdout",
     "output_type": "stream",
     "text": [
      "                     population  prec  temp  wind      雷注意報  大雨注意報  洪水注意報  \\\n",
      "time                                                                        \n",
      "2016-01-01 00:00:00        72.0   0.0   3.0   0.9  0.000000    0.0    0.0   \n",
      "2016-01-01 01:00:00        96.0   0.0   2.0   0.3  0.000000    0.0    0.0   \n",
      "2016-01-01 02:00:00       141.0   0.0   1.7   0.6  0.000000    0.0    0.0   \n",
      "2016-01-01 03:00:00       119.0   0.0   0.9   0.3  0.000000    0.0    0.0   \n",
      "2016-01-01 04:00:00       142.0   0.0   1.0   1.0  0.000000    0.0    0.0   \n",
      "...                         ...   ...   ...   ...       ...    ...    ...   \n",
      "2018-07-11 19:00:00         NaN   0.0  26.8   1.1  1.000000    0.0    0.0   \n",
      "2018-07-11 20:00:00         NaN   0.0  26.5   0.1  1.000000    0.0    0.0   \n",
      "2018-07-11 21:00:00         NaN   0.0  26.6   1.0  0.216667    0.0    0.0   \n",
      "2018-07-11 22:00:00         NaN   0.0  26.3   1.2  0.000000    0.0    0.0   \n",
      "2018-07-11 23:00:00         NaN   0.0  26.2   0.4  0.000000    0.0    0.0   \n",
      "\n",
      "                     強風注意報  大雨警報  洪水警報  暴風警報  大雨特別警報  \n",
      "time                                                  \n",
      "2016-01-01 00:00:00    0.0   0.0   0.0   0.0     0.0  \n",
      "2016-01-01 01:00:00    0.0   0.0   0.0   0.0     0.0  \n",
      "2016-01-01 02:00:00    0.0   0.0   0.0   0.0     0.0  \n",
      "2016-01-01 03:00:00    0.0   0.0   0.0   0.0     0.0  \n",
      "2016-01-01 04:00:00    0.0   0.0   0.0   0.0     0.0  \n",
      "...                    ...   ...   ...   ...     ...  \n",
      "2018-07-11 19:00:00    0.0   0.0   1.0   0.0     0.0  \n",
      "2018-07-11 20:00:00    0.0   0.0   1.0   0.0     0.0  \n",
      "2018-07-11 21:00:00    0.0   0.0   1.0   0.0     0.0  \n",
      "2018-07-11 22:00:00    0.0   0.0   1.0   0.0     0.0  \n",
      "2018-07-11 23:00:00    0.0   0.0   1.0   0.0     0.0  \n",
      "\n",
      "[22152 rows x 12 columns]\n"
     ]
    }
   ],
   "source": [
    "import pandas as pd\n",
    "\n",
    "# DatetimeIndex をデータフレームに変換\n",
    "df_timeLine = pd.DataFrame(timeLine)\n",
    "\n",
    "# 他のデータをリセットインデックスで結合\n",
    "df_pop_reset = df_pop[['population']].reset_index(drop=True)\n",
    "df_weather_reset = df_weather[['prec', 'temp', 'wind']].reset_index(drop=True)\n",
    "df_warnings_reset = df_warnings.reset_index(drop=True)\n",
    "\n",
    "# 横方向に結合\n",
    "df_ex = pd.concat([df_timeLine, df_pop_reset, df_weather_reset], axis=1)\n",
    "df_ex = pd.concat([df_ex,df_warnings_reset], axis=1)\n",
    "\n",
    "# 時系列をインデックスに設定\n",
    "df_ex = df_ex.set_index('time')\n",
    "\n",
    "print(df_ex)"
   ]
  },
  {
   "cell_type": "markdown",
   "metadata": {},
   "source": [
    "データの欠損値の補完"
   ]
  },
  {
   "cell_type": "code",
   "execution_count": 15,
   "metadata": {},
   "outputs": [
    {
     "data": {
      "text/plain": [
       "time\n",
       "2016-01-01 00:00:00    False\n",
       "2016-01-01 01:00:00    False\n",
       "2016-01-01 02:00:00    False\n",
       "2016-01-01 03:00:00    False\n",
       "2016-01-01 04:00:00    False\n",
       "                       ...  \n",
       "2018-07-11 19:00:00    False\n",
       "2018-07-11 20:00:00    False\n",
       "2018-07-11 21:00:00    False\n",
       "2018-07-11 22:00:00    False\n",
       "2018-07-11 23:00:00    False\n",
       "Name: temp, Length: 22152, dtype: bool"
      ]
     },
     "execution_count": 15,
     "metadata": {},
     "output_type": "execute_result"
    }
   ],
   "source": [
    "df_ex['temp'].isna()"
   ]
  },
  {
   "cell_type": "code",
   "execution_count": 16,
   "metadata": {},
   "outputs": [
    {
     "name": "stdout",
     "output_type": "stream",
     "text": [
      "population のNaNの場所と値:\n",
      "                     population  prec  temp  wind      雷注意報  大雨注意報  洪水注意報  \\\n",
      "time                                                                        \n",
      "2018-07-11 18:00:00         NaN   0.0  29.7   1.9  1.000000    0.0    0.0   \n",
      "2018-07-11 19:00:00         NaN   0.0  26.8   1.1  1.000000    0.0    0.0   \n",
      "2018-07-11 20:00:00         NaN   0.0  26.5   0.1  1.000000    0.0    0.0   \n",
      "2018-07-11 21:00:00         NaN   0.0  26.6   1.0  0.216667    0.0    0.0   \n",
      "2018-07-11 22:00:00         NaN   0.0  26.3   1.2  0.000000    0.0    0.0   \n",
      "2018-07-11 23:00:00         NaN   0.0  26.2   0.4  0.000000    0.0    0.0   \n",
      "\n",
      "                     強風注意報  大雨警報  洪水警報  暴風警報  大雨特別警報  \n",
      "time                                                  \n",
      "2018-07-11 18:00:00    0.0   0.0   1.0   0.0     0.0  \n",
      "2018-07-11 19:00:00    0.0   0.0   1.0   0.0     0.0  \n",
      "2018-07-11 20:00:00    0.0   0.0   1.0   0.0     0.0  \n",
      "2018-07-11 21:00:00    0.0   0.0   1.0   0.0     0.0  \n",
      "2018-07-11 22:00:00    0.0   0.0   1.0   0.0     0.0  \n",
      "2018-07-11 23:00:00    0.0   0.0   1.0   0.0     0.0  \n",
      "\n"
     ]
    }
   ],
   "source": [
    "import pandas as pd\n",
    "import numpy as np\n",
    "\n",
    "# 例: df_trainの作成\n",
    "\n",
    "for name_var in df_ex.columns:\n",
    "    nan_locations = df_ex[df_ex[name_var].isna()]\n",
    "\n",
    "    # NaNが見つかった場合のみ表示\n",
    "    if not nan_locations.empty:\n",
    "        print(f\"{name_var} のNaNの場所と値:\")\n",
    "        print(nan_locations)\n",
    "        print()\n",
    "\n",
    "        # NaNを一つ前のデータで上書きする\n",
    "        df_ex.loc[:, name_var] = df_ex[name_var].ffill()\n"
   ]
  },
  {
   "cell_type": "markdown",
   "metadata": {},
   "source": [
    "上に表示があればデータに欠損値あり．注意！！"
   ]
  },
  {
   "cell_type": "markdown",
   "metadata": {},
   "source": [
    "# LSTM\n",
    "\n"
   ]
  },
  {
   "cell_type": "code",
   "execution_count": 17,
   "metadata": {},
   "outputs": [],
   "source": [
    "# ライブラリのインポート\n",
    "import numpy as np\n",
    "import pandas as pd\n",
    "from matplotlib import pyplot as plt\n",
    "\n",
    "from sklearn.preprocessing import MinMaxScaler\n",
    "from sklearn.model_selection import train_test_split\n",
    "import torch\n",
    "\n",
    "from torch import nn,optim\n",
    "from torch.utils.data import DataLoader, TensorDataset, Dataset\n",
    "from torchvision import transforms\n",
    "from torchinfo import summary\n",
    "from torch.autograd import Variable\n",
    "\n"
   ]
  },
  {
   "cell_type": "markdown",
   "metadata": {},
   "source": [
    "## Normalize dataframe values"
   ]
  },
  {
   "cell_type": "markdown",
   "metadata": {},
   "source": [
    "data split"
   ]
  },
  {
   "cell_type": "code",
   "execution_count": 18,
   "metadata": {},
   "outputs": [
    {
     "data": {
      "text/plain": [
       "array([[0.19254658],\n",
       "       [0.26708075],\n",
       "       [0.4068323 ],\n",
       "       ...,\n",
       "       [0.20807453],\n",
       "       [0.20807453],\n",
       "       [0.20807453]])"
      ]
     },
     "execution_count": 18,
     "metadata": {},
     "output_type": "execute_result"
    }
   ],
   "source": [
    "from sklearn.preprocessing import MinMaxScaler\n",
    "scaler = MinMaxScaler()\n",
    "\n",
    "if exDataIsAll:\n",
    "    df_ex_standard =scaler.fit_transform(df_ex)\n",
    "else:\n",
    "    df_ex_standard = scaler.fit_transform(df_ex[['population']])\n",
    "\n",
    "# testデータの正規化を戻すためのmax,minを抽出\n",
    "max_avetem= max(df_ex['population'])\n",
    "min_avetem= min(df_ex['population'])\n",
    "max_avetem,min_avetem\n",
    "\n",
    "df_ex_standard"
   ]
  },
  {
   "cell_type": "code",
   "execution_count": 19,
   "metadata": {},
   "outputs": [
    {
     "name": "stdout",
     "output_type": "stream",
     "text": [
      "[ True  True  True ... False False False]\n",
      "21888\n",
      "\n",
      "df_train\n",
      "[[0.19254658]\n",
      " [0.26708075]\n",
      " [0.4068323 ]\n",
      " ...\n",
      " [0.36645963]\n",
      " [0.68322981]\n",
      " [0.53726708]]\n",
      "\n",
      "df_test\n",
      "[[0.43478261]\n",
      " [0.64596273]\n",
      " [0.63975155]\n",
      " [0.72670807]\n",
      " [0.61490683]\n",
      " [0.65838509]\n",
      " [0.4689441 ]\n",
      " [0.52795031]\n",
      " [0.34782609]\n",
      " [0.54037267]\n",
      " [0.50931677]\n",
      " [0.29192547]\n",
      " [0.57453416]\n",
      " [0.57142857]\n",
      " [0.52173913]\n",
      " [0.38819876]\n",
      " [0.47204969]\n",
      " [0.62111801]\n",
      " [0.64285714]\n",
      " [0.62111801]\n",
      " [0.22360248]\n",
      " [0.47204969]\n",
      " [0.76397516]\n",
      " [0.55900621]\n",
      " [0.44720497]\n",
      " [0.49068323]\n",
      " [0.19565217]\n",
      " [0.34161491]\n",
      " [0.57142857]\n",
      " [0.48447205]\n",
      " [0.5621118 ]\n",
      " [0.49378882]\n",
      " [0.33540373]\n",
      " [0.22981366]\n",
      " [0.07763975]\n",
      " [0.29192547]\n",
      " [0.32298137]\n",
      " [0.45962733]\n",
      " [0.31987578]\n",
      " [0.29813665]\n",
      " [0.29503106]\n",
      " [0.40372671]\n",
      " [0.50621118]\n",
      " [0.42857143]\n",
      " [0.52173913]\n",
      " [0.46273292]\n",
      " [0.63975155]\n",
      " [0.25465839]\n",
      " [0.49068323]\n",
      " [0.48447205]\n",
      " [0.60559006]\n",
      " [0.6242236 ]\n",
      " [0.96273292]\n",
      " [0.31055901]\n",
      " [0.23913043]\n",
      " [0.44099379]\n",
      " [0.52173913]\n",
      " [0.46583851]\n",
      " [0.29813665]\n",
      " [0.22670807]\n",
      " [0.30434783]\n",
      " [0.31987578]\n",
      " [0.30124224]\n",
      " [0.42857143]\n",
      " [0.2484472 ]\n",
      " [0.39751553]\n",
      " [0.51863354]\n",
      " [0.57142857]\n",
      " [0.52173913]\n",
      " [0.55900621]\n",
      " [0.65838509]\n",
      " [0.58385093]\n",
      " [0.45962733]\n",
      " [0.66459627]\n",
      " [0.66459627]\n",
      " [0.45652174]\n",
      " [0.51863354]\n",
      " [0.61490683]\n",
      " [0.30124224]\n",
      " [0.36335404]\n",
      " [0.42857143]\n",
      " [0.27329193]\n",
      " [0.1552795 ]\n",
      " [0.39751553]\n",
      " [0.33850932]\n",
      " [0.18012422]\n",
      " [0.17080745]\n",
      " [0.22981366]\n",
      " [0.34782609]\n",
      " [0.26397516]\n",
      " [0.49068323]\n",
      " [0.58074534]\n",
      " [0.44099379]\n",
      " [0.44720497]\n",
      " [0.58385093]\n",
      " [0.5310559 ]\n",
      " [0.41925466]\n",
      " [0.49689441]\n",
      " [0.55900621]\n",
      " [0.59937888]\n",
      " [0.60248447]\n",
      " [0.48136646]\n",
      " [0.42236025]\n",
      " [0.37267081]\n",
      " [0.37267081]\n",
      " [0.29813665]\n",
      " [0.39440994]\n",
      " [0.37888199]\n",
      " [0.45962733]\n",
      " [0.29192547]\n",
      " [0.44099379]\n",
      " [0.37267081]\n",
      " [0.34161491]\n",
      " [0.28571429]\n",
      " [0.47826087]\n",
      " [0.45652174]\n",
      " [0.44409938]\n",
      " [0.39130435]\n",
      " [0.44099379]\n",
      " [0.47515528]\n",
      " [0.46273292]\n",
      " [0.61490683]\n",
      " [0.65217391]\n",
      " [0.59006211]\n",
      " [0.66459627]\n",
      " [0.72981366]\n",
      " [0.4689441 ]\n",
      " [0.44720497]\n",
      " [0.44720497]\n",
      " [0.54347826]\n",
      " [0.28571429]\n",
      " [0.41304348]\n",
      " [0.16149068]\n",
      " [0.27018634]\n",
      " [0.36645963]\n",
      " [0.34782609]\n",
      " [0.51552795]\n",
      " [0.44720497]\n",
      " [0.47515528]\n",
      " [0.55590062]\n",
      " [0.30745342]\n",
      " [0.2173913 ]\n",
      " [0.60559006]\n",
      " [0.9378882 ]\n",
      " [0.77329193]\n",
      " [0.67080745]\n",
      " [0.8136646 ]\n",
      " [0.91614907]\n",
      " [0.82919255]\n",
      " [0.60869565]\n",
      " [0.18012422]\n",
      " [0.05900621]\n",
      " [0.        ]\n",
      " [0.13043478]\n",
      " [0.08385093]\n",
      " [0.00310559]\n",
      " [0.03416149]\n",
      " [0.0931677 ]\n",
      " [0.00931677]\n",
      " [0.01242236]\n",
      " [0.23291925]\n",
      " [0.01863354]\n",
      " [0.01863354]\n",
      " [0.07453416]\n",
      " [0.08074534]\n",
      " [0.05279503]\n",
      " [0.00621118]\n",
      " [0.02173913]\n",
      " [0.02484472]\n",
      " [0.13354037]\n",
      " [0.07763975]\n",
      " [0.03416149]\n",
      " [0.02173913]\n",
      " [0.1552795 ]\n",
      " [0.07453416]\n",
      " [0.10869565]\n",
      " [0.01242236]\n",
      " [0.07763975]\n",
      " [0.07763975]\n",
      " [0.02795031]\n",
      " [0.01552795]\n",
      " [0.1552795 ]\n",
      " [0.32298137]\n",
      " [0.02795031]\n",
      " [0.11180124]\n",
      " [0.04037267]\n",
      " [0.08074534]\n",
      " [0.0310559 ]\n",
      " [0.04658385]\n",
      " [0.0931677 ]\n",
      " [0.02484472]\n",
      " [0.0621118 ]\n",
      " [0.0621118 ]\n",
      " [0.16770186]\n",
      " [0.11490683]\n",
      " [0.03726708]\n",
      " [0.01863354]\n",
      " [0.18944099]\n",
      " [0.07142857]\n",
      " [0.11490683]\n",
      " [0.0931677 ]\n",
      " [0.10559006]\n",
      " [0.1242236 ]\n",
      " [0.08385093]\n",
      " [0.2173913 ]\n",
      " [0.0621118 ]\n",
      " [0.07142857]\n",
      " [0.13354037]\n",
      " [0.03726708]\n",
      " [0.04968944]\n",
      " [0.00621118]\n",
      " [0.07453416]\n",
      " [0.20496894]\n",
      " [0.18322981]\n",
      " [0.09627329]\n",
      " [0.01552795]\n",
      " [0.03726708]\n",
      " [0.04347826]\n",
      " [0.06832298]\n",
      " [0.03726708]\n",
      " [0.11490683]\n",
      " [0.29813665]\n",
      " [0.23291925]\n",
      " [0.1552795 ]\n",
      " [0.1863354 ]\n",
      " [0.07142857]\n",
      " [0.08695652]\n",
      " [0.09937888]\n",
      " [0.12732919]\n",
      " [0.14285714]\n",
      " [0.01242236]\n",
      " [0.00621118]\n",
      " [0.17701863]\n",
      " [0.09006211]\n",
      " [0.07453416]\n",
      " [0.00931677]\n",
      " [0.15838509]\n",
      " [0.36024845]\n",
      " [0.35403727]\n",
      " [0.65838509]\n",
      " [0.44099379]\n",
      " [0.50310559]\n",
      " [0.17701863]\n",
      " [0.59006211]\n",
      " [0.5931677 ]\n",
      " [0.32298137]\n",
      " [0.52484472]\n",
      " [0.55590062]\n",
      " [0.60248447]\n",
      " [0.55590062]\n",
      " [0.57763975]\n",
      " [0.24223602]\n",
      " [0.0310559 ]\n",
      " [0.08074534]\n",
      " [0.0310559 ]\n",
      " [0.14285714]\n",
      " [0.20807453]\n",
      " [0.20807453]\n",
      " [0.20807453]\n",
      " [0.20807453]\n",
      " [0.20807453]\n",
      " [0.20807453]\n",
      " [0.20807453]\n",
      " [0.20807453]]\n"
     ]
    }
   ],
   "source": [
    "# trainのデータ行数を求める．\n",
    "array_true_false = df_ex.index < split_date\n",
    "print(array_true_false)\n",
    "true_count=np.sum(array_true_false)\n",
    "print(true_count)  # <- trainデータ個数\n",
    "\n",
    "\n",
    "# train / test に分割\n",
    "df_train = df_ex_standard[:true_count]\n",
    "df_test = df_ex_standard[true_count:]\n",
    "\n",
    "n_dim = df_train.shape[1]\n",
    "\n",
    "print()\n",
    "print('df_train')\n",
    "print(df_train)\n",
    "print()\n",
    "print('df_test')\n",
    "print(df_test)\n"
   ]
  },
  {
   "cell_type": "markdown",
   "metadata": {},
   "source": [
    "## Data slice\n"
   ]
  },
  {
   "cell_type": "code",
   "execution_count": 20,
   "metadata": {},
   "outputs": [
    {
     "name": "stdout",
     "output_type": "stream",
     "text": [
      "train:(21864, 24, 1)\n",
      "train_labels:(21864,)\n",
      "\n",
      "(240, 24, 1)\n",
      "test_labels:(240, 1)\n"
     ]
    }
   ],
   "source": [
    "\n",
    "import numpy as np\n",
    "\n",
    "window_size = window_size # ウィンドウサイズ（24時間）\n",
    "forecast_steps = 1  # xx時間後を予測\n",
    "n_data = len(df_ex) - window_size - forecast_steps + 1\n",
    "\n",
    "# 訓練データとテストデータのサイズを変更\n",
    "n_train = len(df_train) - window_size - forecast_steps + 1\n",
    "n_test = len(df_test) - window_size - forecast_steps + 1\n",
    "\n",
    "# 正解データを準備________________________________________\n",
    "train = np.zeros((n_train, window_size, n_dim))\n",
    "train_labels = np.zeros((n_train, n_dim))\n",
    "for i in range(n_train):\n",
    "    train[i] = df_train[i:i+window_size]\n",
    "    train_labels[i] = df_train[i + window_size + forecast_steps - 1]  # 24時間後のデータを取得\n",
    "\n",
    "# テストデータを準備______________________________________\n",
    "test = np.zeros((n_test, window_size, n_dim))\n",
    "test_labels = np.zeros((n_test, n_dim))\n",
    "for i in range(n_test):\n",
    "    test[i] = df_test[i:i+window_size]\n",
    "    test_labels[i] = df_test[i + window_size + forecast_steps - 1]  # 24時間後のデータを取得\n",
    "\n",
    "train_labels = train_labels[:, 0]  # 最初の列のみを使用\n",
    "\n",
    "print(f'train:{train.shape}')\n",
    "print(f'train_labels:{train_labels.shape}')\n",
    "print()\n",
    "print(test.shape)\n",
    "print(f'test_labels:{test_labels.shape}')"
   ]
  },
  {
   "cell_type": "markdown",
   "metadata": {},
   "source": [
    "## Define LSTM model"
   ]
  },
  {
   "cell_type": "code",
   "execution_count": 21,
   "metadata": {},
   "outputs": [],
   "source": [
    "# その他の必要なコード\n",
    "train_torch = torch.tensor(train, dtype=torch.float)\n",
    "labels = torch.tensor(train_labels, dtype=torch.float)\n",
    "dataset = TensorDataset(train_torch, labels)\n",
    "train_loader = DataLoader(dataset, batch_size=64, shuffle=True)\n",
    "\n",
    "train_torch = torch.tensor(train, dtype=torch.float)\n",
    "labels = torch.tensor(train_labels, dtype=torch.float)\n",
    "dataset = torch.utils.data.TensorDataset(train_torch, labels)\n",
    "train_loader = DataLoader(dataset, batch_size=64, shuffle=True)"
   ]
  },
  {
   "cell_type": "code",
   "execution_count": 22,
   "metadata": {},
   "outputs": [],
   "source": [
    "if num_of_lstm_layer==1:\n",
    "    # ##1層LSTM\n",
    "    # 多変量を入力して、１変数の予測結果を返すLSTNモデル.\n",
    "    class MyLSTM(nn.Module):\n",
    "        def __init__(self, feature_size, hidden_dim, n_layers):\n",
    "            super(MyLSTM, self).__init__()\n",
    "\n",
    "            self.feature_size = feature_size\n",
    "            self.hidden_dim = hidden_dim\n",
    "            self.n_layers = n_layers\n",
    "            self.n_output = 1\n",
    "\n",
    "            self.lstm = nn.LSTM(feature_size, hidden_dim, num_layers=n_layers, batch_first=True)\n",
    "            self.fc = nn.Linear(hidden_dim, self.n_output)\n",
    "\n",
    "        def forward(self, x):\n",
    "            # hidden state\n",
    "            h_0 = Variable(torch.zeros(self.n_layers, x.size(0), self.hidden_dim))\n",
    "            # cell state\n",
    "            c_0 = Variable(torch.zeros(self.n_layers, x.size(0), self.hidden_dim))\n",
    "            \n",
    "            output, (hn, cn) = self.lstm(x, (h_0, c_0)) # (input, hidden, and internal state)\n",
    "            hn = hn.view(-1, self.hidden_dim) \n",
    "            y = self.fc(hn)\n",
    "            y = y.reshape(self.n_output, -1)\n",
    "\n",
    "            return y.squeeze()"
   ]
  },
  {
   "cell_type": "code",
   "execution_count": 23,
   "metadata": {},
   "outputs": [],
   "source": [
    "if num_of_lstm_layer>=2:\n",
    "    ##2層LSTM\n",
    "    class MyLSTM(nn.Module):\n",
    "        def __init__(self, feature_size, hidden_dim, n_layers=2):  # デフォルトで2層\n",
    "            super(MyLSTM, self).__init__()\n",
    "\n",
    "            self.feature_size = feature_size\n",
    "            self.hidden_dim = hidden_dim\n",
    "            self.n_layers = n_layers\n",
    "            self.n_output = 1\n",
    "\n",
    "            # 2層のLSTM\n",
    "            self.lstm = nn.LSTM(feature_size, hidden_dim, num_layers=n_layers, batch_first=True)\n",
    "            self.fc = nn.Linear(hidden_dim, self.n_output)\n",
    "\n",
    "        def forward(self, x):\n",
    "            # hidden state\n",
    "            h_0 = Variable(torch.zeros(self.n_layers, x.size(0), self.hidden_dim))\n",
    "            # cell state\n",
    "            c_0 = Variable(torch.zeros(self.n_layers, x.size(0), self.hidden_dim))\n",
    "            \n",
    "            # LSTMの2層を通過\n",
    "            output, (hn, cn) = self.lstm(x, (h_0, c_0))\n",
    "\n",
    "            # hnの形状を(batch_size, hidden_dim)に変換\n",
    "            hn = hn[-1]  # 最終タイムステップの出力を使用\n",
    "\n",
    "            # 全結合層を通して最終出力を取得\n",
    "            y = self.fc(hn)\n",
    "\n",
    "            return y.squeeze()  # (batch_size,) にする"
   ]
  },
  {
   "cell_type": "code",
   "execution_count": 24,
   "metadata": {},
   "outputs": [
    {
     "name": "stdout",
     "output_type": "stream",
     "text": [
      "LSTM_layer: 1\n"
     ]
    },
    {
     "data": {
      "text/plain": [
       "=================================================================\n",
       "Layer (type:depth-idx)                   Param #\n",
       "=================================================================\n",
       "MyLSTM                                   --\n",
       "├─LSTM: 1-1                              17,152\n",
       "├─Linear: 1-2                            65\n",
       "=================================================================\n",
       "Total params: 17,217\n",
       "Trainable params: 17,217\n",
       "Non-trainable params: 0\n",
       "================================================================="
      ]
     },
     "execution_count": 24,
     "metadata": {},
     "output_type": "execute_result"
    }
   ],
   "source": [
    "\n",
    "if exDataIsAll:\n",
    "    feature_size  = 12\n",
    "else:\n",
    "    feature_size  = 1\n",
    "\n",
    "n_hidden  = 64\n",
    "n_layers  = num_of_lstm_layer\n",
    "\n",
    "net = MyLSTM(feature_size, n_hidden, n_layers)\n",
    "print(f'LSTM_layer: {num_of_lstm_layer}')\n",
    "summary(net)"
   ]
  },
  {
   "cell_type": "markdown",
   "metadata": {},
   "source": [
    "## Change epoch, Learning"
   ]
  },
  {
   "cell_type": "code",
   "execution_count": 25,
   "metadata": {},
   "outputs": [
    {
     "name": "stdout",
     "output_type": "stream",
     "text": [
      "epochs: 30\n"
     ]
    },
    {
     "data": {
      "text/plain": [
       "MyLSTM(\n",
       "  (lstm): LSTM(1, 64, batch_first=True)\n",
       "  (fc): Linear(in_features=64, out_features=1, bias=True)\n",
       ")"
      ]
     },
     "execution_count": 25,
     "metadata": {},
     "output_type": "execute_result"
    }
   ],
   "source": [
    "func_loss = nn.MSELoss()\n",
    "optimizer = optim.Adam(net.parameters(), lr=0.001)\n",
    "    ## 最適化を図るための仕組みとして，Adamを使う．\n",
    "loss_history = []\n",
    "device = torch.device(\"cuda:0\" if torch.cuda. is_available() else \"cpu\")\n",
    "epochs = epochs\n",
    "print(f'epochs: {epochs}')\n",
    "net.to(device)"
   ]
  },
  {
   "cell_type": "code",
   "execution_count": 26,
   "metadata": {},
   "outputs": [
    {
     "name": "stdout",
     "output_type": "stream",
     "text": [
      "Epoch: 0 , Loss_Train: 0.021588307440455198\n",
      "Epoch: 1 , Loss_Train: 0.015744086423050068\n",
      "Epoch: 2 , Loss_Train: 0.015527791428047489\n",
      "Epoch: 3 , Loss_Train: 0.015361737952790937\n",
      "Epoch: 4 , Loss_Train: 0.015248238830691018\n",
      "Epoch: 5 , Loss_Train: 0.01509391064401607\n",
      "Epoch: 6 , Loss_Train: 0.014978132760751318\n",
      "Epoch: 7 , Loss_Train: 0.014932125531768764\n",
      "Epoch: 8 , Loss_Train: 0.014892726728137125\n",
      "Epoch: 9 , Loss_Train: 0.014886458720249391\n",
      "Epoch: 10 , Loss_Train: 0.014918424543102233\n",
      "Epoch: 11 , Loss_Train: 0.014852368016863427\n",
      "Epoch: 12 , Loss_Train: 0.014828042630977624\n",
      "Epoch: 13 , Loss_Train: 0.014837697156492555\n",
      "Epoch: 14 , Loss_Train: 0.014824612730602075\n",
      "Epoch: 15 , Loss_Train: 0.014807774402114034\n",
      "Epoch: 16 , Loss_Train: 0.01490466454344099\n",
      "Epoch: 17 , Loss_Train: 0.014848748979033434\n",
      "Epoch: 18 , Loss_Train: 0.014803714421169277\n",
      "Epoch: 19 , Loss_Train: 0.0147808249086708\n",
      "Epoch: 20 , Loss_Train: 0.014752850361299096\n",
      "Epoch: 21 , Loss_Train: 0.014790949144820023\n",
      "Epoch: 22 , Loss_Train: 0.014772986230707308\n",
      "Epoch: 23 , Loss_Train: 0.014829922018147874\n",
      "Epoch: 24 , Loss_Train: 0.014779532744892333\n",
      "Epoch: 25 , Loss_Train: 0.014736847867590119\n",
      "Epoch: 26 , Loss_Train: 0.014764178214779896\n",
      "Epoch: 27 , Loss_Train: 0.014729136839367406\n",
      "Epoch: 28 , Loss_Train: 0.014762227616833839\n",
      "Epoch: 29 , Loss_Train: 0.014759612762592515\n",
      "Epoch: 30 , Loss_Train: 0.01474187052018984\n"
     ]
    }
   ],
   "source": [
    "for i in range(epochs+1):\n",
    "    net.train()\n",
    "    tmp_loss = 0.0\n",
    "    for j, (x, t) in enumerate(train_loader):\n",
    "        x = x.to(device)\n",
    "        optimizer.zero_grad()\n",
    "        y = net(x) \n",
    "        y = y.to('cpu')\n",
    "        loss = func_loss(y, t)\n",
    "        loss.backward()\n",
    "        optimizer.step() \n",
    "        tmp_loss += loss.item()\n",
    "    tmp_loss /= j+1\n",
    "    loss_history.append(tmp_loss)\n",
    "    print('Epoch:', i, ', Loss_Train:', tmp_loss)"
   ]
  },
  {
   "cell_type": "code",
   "execution_count": 27,
   "metadata": {},
   "outputs": [
    {
     "data": {
      "image/png": "[encoded data removed]",
      "text/plain": [
       "<Figure size 640x480 with 1 Axes>"
      ]
     },
     "metadata": {},
     "output_type": "display_data"
    }
   ],
   "source": [
    "plt.plot(range(len(loss_history)), loss_history, label='train')\n",
    "plt.legend()\n",
    "\n",
    "plt.xlabel(\"Epochs\")\n",
    "plt.ylabel(\"Loss [MSE]\")\n",
    "\n",
    "# 主グリッドの設定\n",
    "plt.grid(which='major', linestyle='-', linewidth='0.5', color='black')\n",
    "# 補助グリッドの設定\n",
    "plt.minorticks_on()\n",
    "plt.grid(which='minor', linestyle=':', linewidth='0.5', color='gray')\n",
    "\n",
    "# # 横軸をtmpずつ表示させる設定\n",
    "# tmp=20\n",
    "# plt.xticks(range(0, len(loss_history) + 1, tmp))\n",
    "plt.title('Learning Curve') #学習曲線というらしいわ\n",
    "graph_loss=f'{directory}result_{dir_str}_loss.png'\n",
    "plt.savefig(graph_loss,dpi=300)\n",
    "plt.show()"
   ]
  },
  {
   "cell_type": "markdown",
   "metadata": {},
   "source": [
    "# Forecasting"
   ]
  },
  {
   "cell_type": "markdown",
   "metadata": {},
   "source": [
    "**Train data でモデル性能をチェック**\n"
   ]
  },
  {
   "cell_type": "code",
   "execution_count": 28,
   "metadata": {},
   "outputs": [],
   "source": [
    "# predicted_train_plot = []\n",
    "# net.eval()\n",
    "\n",
    "# for k in range(n_train):\n",
    "#     x = train_torch[k].clone().detach()\n",
    "#     x = x.reshape(1, window_size, feature_size)\n",
    "#     x = x.to(device).float()\n",
    "#     y = net(x)\n",
    "#     y = y.to('cpu')\n",
    "#     predicted_train_plot.append(y[0].item())"
   ]
  },
  {
   "cell_type": "code",
   "execution_count": 29,
   "metadata": {},
   "outputs": [],
   "source": [
    "# fig, ax = plt.subplots(figsize=(30,8))\n",
    "\n",
    "# plt.plot(range(len(df_train)), df_train[:, 0], label='Observed')\n",
    "# plt.plot(range(window_size, window_size+len(predicted_train_plot)), predicted_train_plot, label='Predicted')\n",
    "# plt.legend()\n",
    "\n",
    "# # 主グリッドの設定\n",
    "# plt.grid(which='major', linestyle='-', linewidth='0.5', color='black')\n",
    "# # 補助グリッドの設定\n",
    "# plt.minorticks_on()\n",
    "# plt.grid(which='minor', linestyle=':', linewidth='0.5', color='gray')\n",
    "# plt.title('Predicted population (Normalization)')\n",
    "# plt.xlabel('data')\n",
    "# plt.ylabel('population[standard]')\n",
    "# plt.show()"
   ]
  },
  {
   "cell_type": "markdown",
   "metadata": {},
   "source": [
    "**Test data でモデル性能をチェック**"
   ]
  },
  {
   "cell_type": "markdown",
   "metadata": {},
   "source": [
    "以下，observed data を用いて予測をする場合"
   ]
  },
  {
   "cell_type": "code",
   "execution_count": 30,
   "metadata": {},
   "outputs": [],
   "source": [
    "predicted_test_plot = []\n",
    "net.eval()\n",
    "\n",
    "for k in range(n_test):\n",
    "    x = torch.tensor(test[k])\n",
    "    x = x.reshape(1, window_size, feature_size)\n",
    "    x = x.to(device).float()\n",
    "    y = net(x)\n",
    "    y = y.to('cpu')\n",
    "    predicted_test_plot.append(y.item())  # y[0].item() を y.item() に変更"
   ]
  },
  {
   "cell_type": "markdown",
   "metadata": {},
   "source": [
    "以下，predicted data を用いて予測をする場合"
   ]
  },
  {
   "cell_type": "code",
   "execution_count": 31,
   "metadata": {},
   "outputs": [],
   "source": [
    "# # test data 50個目のデータ（下の正規化グラフの横軸50の箇所）からpredicted dataを用いる\n",
    "# fake_point=100\n",
    "# split_point=fake_point-window_size\n",
    "\n",
    "# fake_test=test\n",
    "# predicted_test_plot = []\n",
    "# net.eval()\n",
    "\n",
    "# for k in range(n_test):\n",
    "#     # print(k)\n",
    "#     if (k!=0):\n",
    "#         for iii in range(k):\n",
    "#             fake_test[k][23-iii,0]=predicted_test_plot[-iii]\n",
    "#             if iii>23:\n",
    "#                 break\n",
    "#     if k>split_point:\n",
    "#         x = torch.tensor(fake_test[k])\n",
    "#     else:\n",
    "#         x = torch.tensor(test[k])\n",
    "\n",
    "#     x = x.reshape(1, window_size, feature_size)\n",
    "#     x = x.to(device).float()\n",
    "#     y = net(x)\n",
    "#     y = y.to('cpu')\n",
    "#     predicted_test_plot.append(y[0].item())\n",
    "    "
   ]
  },
  {
   "cell_type": "markdown",
   "metadata": {},
   "source": [
    "**正規化グラフ表示**"
   ]
  },
  {
   "cell_type": "code",
   "execution_count": 32,
   "metadata": {},
   "outputs": [
    {
     "data": {
      "image/png": "[encoded data removed]",
      "text/plain": [
       "<Figure size 800x500 with 1 Axes>"
      ]
     },
     "metadata": {},
     "output_type": "display_data"
    }
   ],
   "source": [
    "fig, ax = plt.subplots(figsize=template1)\n",
    "\n",
    "plt.plot(range(len(df_test)), df_test[:, 0], label='Observed',color='gray')\n",
    "plt.plot(range(window_size, window_size+len(predicted_test_plot)), predicted_test_plot, label='Forecasted',color='red')\n",
    "plt.legend()\n",
    "\n",
    "# 主グリッドの設定\n",
    "plt.grid(which='major', linestyle='-', linewidth='0.5')\n",
    "if exDataIsAll:\n",
    "    add_title_name  = ' with Exogenous variables'\n",
    "else:\n",
    "    add_title_name  = ' without exogenous variables'\n",
    "\n",
    "\n",
    "plt.title('Forecasted population (Normalization)'+add_title_name+' (LSTM)')\n",
    "plt.xlabel('Data number')\n",
    "plt.ylabel('population [standard]')\n",
    "plt.show()"
   ]
  },
  {
   "cell_type": "markdown",
   "metadata": {},
   "source": [
    "正規化を戻す\n"
   ]
  },
  {
   "cell_type": "code",
   "execution_count": 33,
   "metadata": {},
   "outputs": [],
   "source": [
    "#Observed\n",
    "df_test_inversed = np.array(df_test[:,0]) * (max_avetem-min_avetem) + min_avetem\n",
    "\n",
    "#Predicted\n",
    "predicted_test_plot_inversed = np.array(predicted_test_plot) * (max_avetem-min_avetem) + min_avetem\n"
   ]
  },
  {
   "cell_type": "markdown",
   "metadata": {},
   "source": [
    "データの加工"
   ]
  },
  {
   "cell_type": "code",
   "execution_count": 34,
   "metadata": {},
   "outputs": [],
   "source": [
    "\n",
    "import pandas as pd\n",
    "\n",
    "#Observed\n",
    "df_test_inversed_plt = df_test_inversed # ndarray型なので，20個目から最後までの値が格納される\n",
    "\n",
    "#Predicted\n",
    "predicted_test_plot_inversed_plt = predicted_test_plot_inversed\n",
    "\n",
    "# 日時データを生成します（1時間おきのデータを使用）\n",
    "date_rng = pd.date_range(start=test_start_date, periods=len(df_test_inversed_plt), freq='h')\n",
    "predicted_date_rng = date_rng[-len(predicted_test_plot_inversed_plt):]"
   ]
  },
  {
   "cell_type": "markdown",
   "metadata": {},
   "source": [
    "グラフ表示"
   ]
  },
  {
   "cell_type": "code",
   "execution_count": 35,
   "metadata": {},
   "outputs": [
    {
     "data": {
      "image/png": "[encoded data removed]",
      "text/plain": [
       "<Figure size 800x500 with 1 Axes>"
      ]
     },
     "metadata": {},
     "output_type": "display_data"
    }
   ],
   "source": [
    "import matplotlib.pyplot as plt\n",
    "import matplotlib.dates as mdates\n",
    "import numpy as np\n",
    "\n",
    "# プロット\n",
    "fig, ax = plt.subplots(figsize=template1)  # サイズを指定する\n",
    "\n",
    "# データのプロット\n",
    "ax.plot(date_rng, df_test_inversed_plt, label='Observed', linewidth=1.5, color='gray')\n",
    "ax.plot(predicted_date_rng, predicted_test_plot_inversed_plt, label='Forecasted by LSTM', linewidth=1.5, color='red')\n",
    "ax.legend(loc='upper left')\n",
    "\n",
    "# 日時のフォーマット設定\n",
    "ax.xaxis.set_major_formatter(mdates.DateFormatter('%Y-%m-%d %H:%M'))\n",
    "ax.grid()\n",
    "\n",
    "# フォーマットを月単位に設定\n",
    "formatter = mdates.DateFormatter('%Y-%b-%d')  # 年-月形式で表示\n",
    "ax.xaxis.set_major_formatter(formatter)\n",
    "\n",
    "# x軸のラベルを90度回転させる\n",
    "ax.tick_params(axis='x', rotation=90)\n",
    "\n",
    "# 0度のラベルを削除\n",
    "ax.tick_params(axis='x', which='both', bottom=False, top=False)\n",
    "\n",
    "if exDataIsAll:\n",
    "    add_title_name  = ' with Exogenous variables'\n",
    "else:\n",
    "    add_title_name  = ' without exogenous variables'\n",
    "\n",
    "plt.title('Forecasted population' + add_title_name)\n",
    "plt.ylabel('Population')\n",
    "graph_forecast = f'{directory}result_{dir_str}_forecast.png'\n",
    "plt.savefig(graph_forecast, dpi=300)\n",
    "\n",
    "plt.show()"
   ]
  },
  {
   "cell_type": "markdown",
   "metadata": {},
   "source": [
    "# MAPE/MSE"
   ]
  },
  {
   "cell_type": "code",
   "execution_count": 36,
   "metadata": {},
   "outputs": [
    {
     "name": "stdout",
     "output_type": "stream",
     "text": [
      "MAPE: 78.71%\n",
      "MSE : 1998.15\n",
      "RMSE : 44.70\n"
     ]
    }
   ],
   "source": [
    "import numpy as np\n",
    "# MAPEの計算\n",
    "def calculate_mape(true_values, predicted_values):\n",
    "    true_values, predicted_values = np.array(true_values), np.array(predicted_values)\n",
    "    return np.mean(np.abs((true_values - predicted_values) / true_values)) * 100\n",
    "\n",
    "\n",
    "# MSEを計算する関数\n",
    "def calculate_mse(true_values, predicted_values):\n",
    "    true_values, predicted_values = np.array(true_values), np.array(predicted_values)\n",
    "    return np.mean((true_values - predicted_values) ** 2)\n",
    "\n",
    "def calculate_rmse(true_values, predicted_values):\n",
    "    return (calculate_mse(true_values, predicted_values) ** 0.5)\n",
    "\n",
    "# 後からpredictedの数だけ戻り，observedとpredictedを対応させる確認する．\n",
    "mape = calculate_mape(df_test_inversed_plt[-len(predicted_test_plot_inversed_plt):], predicted_test_plot_inversed_plt) \n",
    "mse = calculate_mse(df_test_inversed_plt[-len(predicted_test_plot_inversed_plt):], predicted_test_plot_inversed_plt)\n",
    "rmse = calculate_rmse(df_test_inversed_plt[-len(predicted_test_plot_inversed_plt):], predicted_test_plot_inversed_plt)\n",
    "\n",
    "print(f'MAPE: {mape:.2f}%')\n",
    "print(f'MSE : {mse:.2f}')\n",
    "print(f'RMSE : {rmse:.2f}')\n"
   ]
  },
  {
   "cell_type": "markdown",
   "metadata": {},
   "source": [
    "$\n",
    "\\text{MAPE} = \\frac{1}{n} \\sum_{i=1}^{n} \\left| \\frac{y_i - \\hat{y}_i}{y_i} \\right| \\times 100\n",
    "$\n",
    "\n",
    "$\n",
    "\\text{MSE} = \\frac{1}{n} \\sum_{i=1}^{n} (y_i - \\hat{y}_i)^2\n",
    "$\n",
    "\n",
    "---"
   ]
  },
  {
   "cell_type": "markdown",
   "metadata": {},
   "source": [
    "# Pickle "
   ]
  },
  {
   "cell_type": "code",
   "execution_count": 37,
   "metadata": {},
   "outputs": [],
   "source": [
    "import pickle\n",
    "import os\n",
    "\n",
    "# pickle #####################\n",
    "# 保存する時間情報\n",
    "\n",
    "### 保存したい複数の変数\n",
    "a = train_start_date\n",
    "b = train_end_date\n",
    "c = test_start_date\n",
    "d = test_end_date\n",
    "e = PATH_mesh\n",
    "f = window_size\n",
    "g = df_test\n",
    "h = predicted_test_plot\n",
    "i = date_rng\n",
    "j = df_test_inversed_plt\n",
    "k = predicted_date_rng\n",
    "l = predicted_test_plot_inversed_plt\n",
    "m = df_ex\n",
    "\n",
    "### pickleで保存（書き出し）: 辞書にして複数の変数を保存\n",
    "pickle_path = os.path.join(directory, f'vars_exo{exDataIsAll}.pickle')\n",
    "with open(pickle_path, mode='wb') as fo:\n",
    "    pickle.dump({\n",
    "        'train_start_date': a, \n",
    "        'train_end_date': b, \n",
    "        'test_start_date': c, \n",
    "        'test_end_date': d, \n",
    "        'date_rng': i, \n",
    "        'df_test_inversed_plt': j, \n",
    "        'predicted_date_rng': k, \n",
    "        'predicted_test_plot_inversed_plt': l,\n",
    "        'df_ex': m\n",
    "    }, fo)"
   ]
  },
  {
   "cell_type": "code",
   "execution_count": 38,
   "metadata": {},
   "outputs": [
    {
     "name": "stdout",
     "output_type": "stream",
     "text": [
      "Elapsed time: 0.92 min\n"
     ]
    }
   ],
   "source": [
    "# 終了時刻を記録\n",
    "end_time = datetime.datetime.now()\n",
    "\n",
    "# 経過時間を計算（分単位）\n",
    "elapsed_time = (end_time - start_time).total_seconds() / 60\n",
    "\n",
    "# 結果を表示\n",
    "print(f\"Elapsed time: {elapsed_time:.2f} min\")"
   ]
  },
  {
   "cell_type": "code",
   "execution_count": 39,
   "metadata": {},
   "outputs": [],
   "source": [
    "import os\n",
    "\n",
    "md_file_path = os.path.join(directory, f'report.md')\n",
    "with open(md_file_path, 'w') as md_file:\n",
    "    md_file.write(f\"\"\"\n",
    "# Report for This LSTM model (Elapsed time: {elapsed_time:.2f} min)\n",
    "\n",
    "File created time: {dir_str}\n",
    "\n",
    "## Result \n",
    "<img src=\"{os.path.basename(graph_loss)}\" width='600'/>\n",
    "<img src=\"{os.path.basename(graph_forecast)}\" width='600'/>\n",
    "\n",
    "- MAPE\\t{mape:.1f}%\n",
    "- MSE \\t{mse:.2f}\n",
    "- RMSE : {rmse:.2f}\n",
    "\n",
    "## Pickle path\n",
    "{pickle_path}\n",
    "\n",
    "## Mesh path\n",
    "{PATH_mesh}\n",
    "\n",
    "## Imput vars\n",
    "\n",
    "### Exo data:\n",
    "- {exDataIsAll}\n",
    "\n",
    "### Exogenous data:\n",
    "- {', '.join(df_ex.columns)}\n",
    " \n",
    "### Period:\n",
    "- train_start_date    = {train_start_date}\n",
    "- train_end_date      = {train_end_date}\n",
    "- test_start_date     = {test_start_date}  \n",
    "- test_end_date       = {test_end_date}\n",
    "\n",
    "### LSTM parameter\n",
    "- window_size\\t{window_size}\n",
    "- epochs\\t{epochs}\n",
    "- ...\n",
    "- feature_size\\t{feature_size}\n",
    "- n_hidden\\t{n_hidden}\n",
    "- n_layers\\t{n_layers}\n",
    "- net\n",
    "\n",
    "     {net}\n",
    "\n",
    "\n",
    "\"\"\")\n",
    "    "
   ]
  }
 ],
 "metadata": {
  "kernelspec": {
   "display_name": "mobile",
   "language": "python",
   "name": "python3"
  },
  "language_info": {
   "codemirror_mode": {
    "name": "ipython",
    "version": 3
   },
   "file_extension": ".py",
   "mimetype": "text/x-python",
   "name": "python",
   "nbconvert_exporter": "python",
   "pygments_lexer": "ipython3",
   "version": "3.10.12"
  }
 },
 "nbformat": 4,
 "nbformat_minor": 2
}
