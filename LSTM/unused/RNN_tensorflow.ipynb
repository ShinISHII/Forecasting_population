{
 "cells": [
  {
   "cell_type": "markdown",
   "metadata": {},
   "source": [
    "# softmax function test\n"
   ]
  },
  {
   "cell_type": "code",
   "execution_count": 3,
   "metadata": {},
   "outputs": [
    {
     "name": "stdout",
     "output_type": "stream",
     "text": [
      "K\n",
      "[[0 1 2 3]\n",
      " [3 2 1 0]\n",
      " [4 4 4 4]\n",
      " [1 0 1 0]\n",
      " [1 4 3 2]]\n",
      "\n",
      "Q\n",
      "[[0 1 2 3]\n",
      " [3 2 1 0]\n",
      " [4 4 4 4]\n",
      " [1 0 1 0]\n",
      " [1 4 3 2]]\n"
     ]
    }
   ],
   "source": [
    "# Key を定義\n",
    "import numpy as np\n",
    "K = np.array([[0,1,2,3], \n",
    "              [3,2,1,0],\n",
    "              [4,4,4,4],\n",
    "              [1,0,1,0],\n",
    "              [1,4,3,2]\n",
    "              ])\n",
    "\n",
    "Q = K\n",
    "\n",
    "print('K')\n",
    "print(K)\n",
    "print()\n",
    "\n",
    "print('Q')\n",
    "print(Q)"
   ]
  },
  {
   "cell_type": "code",
   "execution_count": 4,
   "metadata": {},
   "outputs": [],
   "source": [
    "def standard(matrix):\n",
    "    import numpy as np\n",
    "    output = []\n",
    "    temp_max = matrix.max()\n",
    "    temp_min = matrix.min()\n",
    "    for list in matrix:\n",
    "        for val in list:\n",
    "            temp= (val-temp_min)/(temp_max-temp_min)\n",
    "            output.append(temp)\n",
    "    \n",
    "    output = np.array(output)\n",
    "    output = output.reshape(matrix.shape)\n",
    "    return output"
   ]
  },
  {
   "cell_type": "code",
   "execution_count": 5,
   "metadata": {},
   "outputs": [
    {
     "name": "stdout",
     "output_type": "stream",
     "text": [
      "OLD\n",
      "[[0 1 2 3]\n",
      " [3 2 1 0]\n",
      " [4 4 4 4]\n",
      " [1 0 1 0]\n",
      " [1 4 3 2]]\n",
      "\n",
      "NEW\n",
      "[[0.   0.25 0.5  0.75]\n",
      " [0.75 0.5  0.25 0.  ]\n",
      " [1.   1.   1.   1.  ]\n",
      " [0.25 0.   0.25 0.  ]\n",
      " [0.25 1.   0.75 0.5 ]]\n"
     ]
    }
   ],
   "source": [
    "print('OLD')\n",
    "print(K)\n",
    "\n",
    "print()\n",
    "print('NEW')\n",
    "K_new=standard(K)\n",
    "print(K_new)"
   ]
  },
  {
   "cell_type": "code",
   "execution_count": null,
   "metadata": {},
   "outputs": [],
   "source": []
  },
  {
   "cell_type": "code",
   "execution_count": 6,
   "metadata": {},
   "outputs": [
    {
     "name": "stdout",
     "output_type": "stream",
     "text": [
      "dot_product\n",
      "[[14  4 24  2 16]\n",
      " [ 4 14 24  4 14]\n",
      " [24 24 64  8 40]\n",
      " [ 2  4  8  2  4]\n",
      " [16 14 40  4 30]]\n",
      "\n",
      "devided by the sqrt(len of matrix)\n",
      "[[ 6.26099034  1.78885438 10.73312629  0.89442719  7.15541753]\n",
      " [ 1.78885438  6.26099034 10.73312629  1.78885438  6.26099034]\n",
      " [10.73312629 10.73312629 28.62167011  3.57770876 17.88854382]\n",
      " [ 0.89442719  1.78885438  3.57770876  0.89442719  1.78885438]\n",
      " [ 7.15541753  6.26099034 17.88854382  1.78885438 13.41640786]]\n",
      "\n",
      "standard\n",
      "[[0.19354839 0.03225806 0.35483871 0.         0.22580645]\n",
      " [0.03225806 0.19354839 0.35483871 0.03225806 0.19354839]\n",
      " [0.35483871 0.35483871 1.         0.09677419 0.61290323]\n",
      " [0.         0.03225806 0.09677419 0.         0.03225806]\n",
      " [0.22580645 0.19354839 0.61290323 0.03225806 0.4516129 ]]\n"
     ]
    }
   ],
   "source": [
    "# Qと（Kの転置）の内積をKのサイズ(=5)の平方根で割る．\n",
    "dot_product = np.dot(Q,K.T)\n",
    "print('dot_product')\n",
    "print(dot_product)\n",
    "print()\n",
    "\n",
    "dot_product = dot_product/np.sqrt((K).shape[0])\n",
    "print('devided by the sqrt(len of matrix)')\n",
    "print(dot_product)\n",
    "print()\n",
    "\n",
    "dot_product = standard(dot_product)\n",
    "print(\"standard\")\n",
    "print(dot_product)\n"
   ]
  },
  {
   "cell_type": "code",
   "execution_count": 7,
   "metadata": {},
   "outputs": [],
   "source": [
    "import numpy as np\n",
    "def softmax(list):\n",
    "    output = []\n",
    "    bunbo = 0\n",
    "    for val in list:\n",
    "        bunbo += np.exp(val) \n",
    "    print(f'分母：{bunbo}')\n",
    "    for val in list:\n",
    "        bunshi=np.exp(val)\n",
    "        output.append(bunshi/bunbo)\n",
    "        print(f'x: {val}\\t分子: {bunshi}')\n",
    "    return output\n"
   ]
  },
  {
   "cell_type": "code",
   "execution_count": 8,
   "metadata": {},
   "outputs": [
    {
     "name": "stdout",
     "output_type": "stream",
     "text": [
      "分母：[5.92561581 5.91861485 8.51757706 5.16717959 6.91629128]\n",
      "x: [0.19354839 0.03225806 0.35483871 0.         0.22580645]\t分子: [1.21354811 1.032784   1.42595064 1.         1.25333306]\n",
      "x: [0.03225806 0.19354839 0.35483871 0.03225806 0.19354839]\t分子: [1.032784   1.21354811 1.42595064 1.032784   1.21354811]\n",
      "x: [0.35483871 0.35483871 1.         0.09677419 0.61290323]\t分子: [1.42595064 1.42595064 2.71828183 1.10161159 1.84578235]\n",
      "x: [0.         0.03225806 0.09677419 0.         0.03225806]\t分子: [1.         1.032784   1.10161159 1.         1.032784  ]\n",
      "x: [0.22580645 0.19354839 0.61290323 0.03225806 0.4516129 ]\t分子: [1.25333306 1.21354811 1.84578235 1.032784   1.57084376]\n"
     ]
    }
   ],
   "source": [
    "softmax_output = softmax(dot_product)"
   ]
  },
  {
   "cell_type": "code",
   "execution_count": 9,
   "metadata": {},
   "outputs": [
    {
     "data": {
      "text/plain": [
       "list"
      ]
     },
     "execution_count": 9,
     "metadata": {},
     "output_type": "execute_result"
    }
   ],
   "source": [
    "type(softmax_output)"
   ]
  },
  {
   "cell_type": "code",
   "execution_count": 10,
   "metadata": {},
   "outputs": [
    {
     "name": "stdout",
     "output_type": "stream",
     "text": [
      "[array([0.20479696, 0.17449758, 0.16741271, 0.19352917, 0.18121462]), array([0.17429142, 0.20503921, 0.16741271, 0.19987383, 0.17546226]), array([0.24064176, 0.24092641, 0.31913792, 0.21319398, 0.26687458]), array([0.16875883, 0.17449758, 0.12933392, 0.19352917, 0.14932627]), array([0.21151102, 0.20503921, 0.21670275, 0.19987383, 0.22712227])]\n",
      "[1. 1. 1. 1. 1.]\n"
     ]
    }
   ],
   "source": [
    "print(softmax_output)\n",
    "print(sum(softmax_output))"
   ]
  },
  {
   "cell_type": "code",
   "execution_count": 11,
   "metadata": {},
   "outputs": [
    {
     "name": "stdout",
     "output_type": "stream",
     "text": [
      "[[1.56788738 1.94830142 1.99091536 1.64647094]\n",
      " [1.66010455 1.95586972 1.9495335  1.54344962]\n",
      " [2.47939948 3.0665446  3.01257935 2.53222614]\n",
      " [1.38368386 1.63239475 1.6708589  1.3222647 ]\n",
      " [1.90892472 2.3968895  2.37611288 1.9555886 ]]\n",
      "\n",
      "K\n",
      "[[0 1 2 3]\n",
      " [3 2 1 0]\n",
      " [4 4 4 4]\n",
      " [1 0 1 0]\n",
      " [1 4 3 2]]\n",
      "\n"
     ]
    }
   ],
   "source": [
    "ans=np.dot(softmax_output,K)\n",
    "print(ans)\n",
    "print()\n",
    "\n",
    "print('K')\n",
    "print(K)\n",
    "print()"
   ]
  },
  {
   "cell_type": "code",
   "execution_count": null,
   "metadata": {},
   "outputs": [],
   "source": []
  }
 ],
 "metadata": {
  "kernelspec": {
   "display_name": "Python 3",
   "language": "python",
   "name": "python3"
  },
  "language_info": {
   "codemirror_mode": {
    "name": "ipython",
    "version": 3
   },
   "file_extension": ".py",
   "mimetype": "text/x-python",
   "name": "python",
   "nbconvert_exporter": "python",
   "pygments_lexer": "ipython3",
   "version": "3.12.2"
  }
 },
 "nbformat": 4,
 "nbformat_minor": 2
}
