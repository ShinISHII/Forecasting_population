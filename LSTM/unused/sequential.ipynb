{
 "cells": [
  {
   "cell_type": "code",
   "execution_count": 15,
   "metadata": {},
   "outputs": [
    {
     "ename": "ModuleNotFoundError",
     "evalue": "No module named 'keras.sequential'",
     "output_type": "error",
     "traceback": [
      "\u001b[0;31m---------------------------------------------------------------------------\u001b[0m",
      "\u001b[0;31mModuleNotFoundError\u001b[0m                       Traceback (most recent call last)",
      "Cell \u001b[0;32mIn[15], line 32\u001b[0m\n\u001b[1;32m     29\u001b[0m     \u001b[38;5;28;01mreturn\u001b[39;00m model \u001b[38;5;66;03m# モデルを返します\u001b[39;00m\n\u001b[1;32m     31\u001b[0m \u001b[38;5;66;03m# adjust_model関数を使ってモデルを作成します\u001b[39;00m\n\u001b[0;32m---> 32\u001b[0m model \u001b[38;5;241m=\u001b[39m \u001b[43madjust_model\u001b[49m\u001b[43m(\u001b[49m\u001b[43minput_shape\u001b[49m\u001b[38;5;241;43m=\u001b[39;49m\u001b[38;5;241;43m5\u001b[39;49m\u001b[43m,\u001b[49m\u001b[43m \u001b[49m\u001b[43mn_classes\u001b[49m\u001b[38;5;241;43m=\u001b[39;49m\u001b[38;5;241;43m2\u001b[39;49m\u001b[43m)\u001b[49m\n",
      "Cell \u001b[0;32mIn[15], line 3\u001b[0m, in \u001b[0;36madjust_model\u001b[0;34m(input_shape, n_classes)\u001b[0m\n\u001b[1;32m      1\u001b[0m \u001b[38;5;28;01mdef\u001b[39;00m \u001b[38;5;21madjust_model\u001b[39m(input_shape, n_classes):\n\u001b[1;32m      2\u001b[0m     \u001b[38;5;28;01mimport\u001b[39;00m \u001b[38;5;21;01mnumpy\u001b[39;00m \u001b[38;5;28;01mas\u001b[39;00m \u001b[38;5;21;01mnp\u001b[39;00m\n\u001b[0;32m----> 3\u001b[0m     \u001b[38;5;28;01mimport\u001b[39;00m \u001b[38;5;21;01mkeras\u001b[39;00m\u001b[38;5;21;01m.\u001b[39;00m\u001b[38;5;21;01msequential\u001b[39;00m\n\u001b[1;32m      6\u001b[0m     \u001b[38;5;66;03m# まず、ハイパーパラメータの範囲を定義します（どのような数字の組み合わせでモデルを作るか）\u001b[39;00m\n\u001b[1;32m      7\u001b[0m     dense_units \u001b[38;5;241m=\u001b[39m [input_shape\u001b[38;5;241m*\u001b[39m\u001b[38;5;241m2\u001b[39m, input_shape\u001b[38;5;241m*\u001b[39m\u001b[38;5;241m3\u001b[39m]\n",
      "\u001b[0;31mModuleNotFoundError\u001b[0m: No module named 'keras.sequential'"
     ]
    }
   ],
   "source": [
    "def adjust_model(input_shape, n_classes):\n",
    "    import numpy as np\n",
    "    import keras\n",
    "\n",
    "    # まず、ハイパーパラメータの範囲を定義します（どのような数字の組み合わせでモデルを作るか）\n",
    "    dense_units = [input_shape*2, input_shape*3]\n",
    "    dropout_rates = [0.2, 0.3, 0.4]\n",
    "    learning_rates = [0.001, 0.01, 0.1]\n",
    "\n",
    "    # 次に、ハイパーパラメータをランダムに選びます\n",
    "    dense_units = np.random.choice(dense_units)\n",
    "    dropout_rate1 = np.random.choice(dropout_rates)\n",
    "    dropout_rate2 = np.random.choice(dropout_rates)\n",
    "    learning_rate = np.random.choice(learning_rates)\n",
    "\n",
    "    # 選ばれたハイパーパラメータを使って、Sequentialモデルを作ります\n",
    "    model = models.Sequential()\n",
    "    model.add(layers.Dense(dense_units, activation='relu', input_shape=(input_shape,))) # 入力層を追加\n",
    "    model.add(layers.Dropout(dropout_rate1)) # ドロップアウト層を追加（過学習を防ぐ）\n",
    "    model.add(layers.Dense(dense_units, activation='relu')) # 隠れ層を追加\n",
    "    model.add(layers.Dropout(dropout_rate2)) # もう一つのドロップアウト層を追加\n",
    "    model.add(layers.Dense(n_classes, activation='softmax')) # 出力層を追加\n",
    "\n",
    "    # 選ばれたハイパーパラメータでモデルをコンパイルします（モデルがどのように学習するかを決める）\n",
    "    optimizer = optimizers.Adam(lr=learning_rate) # オプティマイザーを選びます（学習方法）\n",
    "    model.compile(loss='categorical_crossentropy', optimizer=optimizer, metrics=['accuracy']) # モデルをコンパイル\n",
    "\n",
    "    return model # モデルを返します\n",
    "\n",
    "# adjust_model関数を使ってモデルを作成します\n",
    "model = adjust_model(input_shape=5, n_classes=2)\n",
    "\n"
   ]
  }
 ],
 "metadata": {
  "kernelspec": {
   "display_name": "Python 3",
   "language": "python",
   "name": "python3"
  },
  "language_info": {
   "codemirror_mode": {
    "name": "ipython",
    "version": 3
   },
   "file_extension": ".py",
   "mimetype": "text/x-python",
   "name": "python",
   "nbconvert_exporter": "python",
   "pygments_lexer": "ipython3",
   "version": "3.12.2"
  }
 },
 "nbformat": 4,
 "nbformat_minor": 2
}
