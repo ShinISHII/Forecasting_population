{
 "cells": [
  {
   "cell_type": "code",
   "execution_count": 17,
   "metadata": {},
   "outputs": [
    {
     "name": "stdout",
     "output_type": "stream",
     "text": [
      "真備支所の合計世帯数: 8918\n",
      "真備支所の合計人数: 22823\n"
     ]
    }
   ],
   "source": [
    "import pandas as pd\n",
    "\n",
    "# CSVファイルを読み込む\n",
    "df = pd.read_csv(\"/Users/shin/Downloads/m2911.csv\", encoding='shift-jis') \n",
    "\n",
    "# 真備支所の合計世帯数と合計人数を抽出\n",
    "mabi_total_households = df.iloc[12,22]\n",
    "mabi_total_population = df.iloc[12,28]\n",
    "\n",
    "# 結果を表示\n",
    "print(\"真備支所の合計世帯数:\", mabi_total_households)\n",
    "print(\"真備支所の合計人数:\", mabi_total_population)"
   ]
  }
 ],
 "metadata": {
  "kernelspec": {
   "display_name": "Python 3",
   "language": "python",
   "name": "python3"
  },
  "language_info": {
   "codemirror_mode": {
    "name": "ipython",
    "version": 3
   },
   "file_extension": ".py",
   "mimetype": "text/x-python",
   "name": "python",
   "nbconvert_exporter": "python",
   "pygments_lexer": "ipython3",
   "version": "3.12.2"
  }
 },
 "nbformat": 4,
 "nbformat_minor": 2
}
