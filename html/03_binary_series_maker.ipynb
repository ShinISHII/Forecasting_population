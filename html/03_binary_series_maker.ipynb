{
 "cells": [
  {
   "cell_type": "code",
   "execution_count": 41,
   "metadata": {},
   "outputs": [
    {
     "name": "stdout",
     "output_type": "stream",
     "text": [
      "雷注意報\n",
      "大雨注意報\n",
      "洪水注意報\n",
      "強風注意報\n",
      "大雨警報\n",
      "洪水警報\n",
      "暴風警報\n",
      "大雨特別警報\n"
     ]
    }
   ],
   "source": [
    "from my_vars import get_warning_list\n",
    "# Trueになっている警報・注意報のリスト\n",
    "warn_files = get_warning_list()\n",
    "for warn_name,is_active in warn_files.items():\n",
    "    if is_active:\n",
    "        print(warn_name)"
   ]
  },
  {
   "cell_type": "code",
   "execution_count": null,
   "metadata": {},
   "outputs": [],
   "source": [
    "import pandas as pd\n",
    "from datetime import datetime, timedelta\n",
    "import warnings\n",
    "import pickle\n",
    "import matplotlib.pyplot as plt\n",
    "\n",
    "warnings.simplefilter('ignore')\n",
    "\n",
    "# 各1時間ステップにおける警報発令割合を計算\n",
    "def calculate_alert_ratio(start_time, end_time, alerts):\n",
    "    total_seconds = 3600\n",
    "    alert_time = 0\n",
    "    for _, row in alerts.iterrows():\n",
    "        alert_start = max(row['開始日時'], start_time)\n",
    "        alert_end = min(row['終了日時'], end_time)\n",
    "        if alert_start < alert_end:\n",
    "            alert_time += (alert_end - alert_start).total_seconds()\n",
    "    return alert_time / total_seconds\n",
    "\n",
    "# 統合結果を保存するデータフレーム\n",
    "combined_df = pd.DataFrame()\n",
    "\n",
    "# 警報ファイルの処理\n",
    "for warn_name, is_active in warn_files.items():\n",
    "    if is_active:\n",
    "        print(warn_name)\n",
    "        # CSVデータをデータフレームに読み込む\n",
    "        url_html = f'./kurashiki/output/{warn_name}_filtered_alerts.csv'\n",
    "        df = pd.read_csv(url_html)\n",
    "\n",
    "        # 列名を設定\n",
    "        df.columns = ['ID', '警報', '県', '開始日時', '終了日時', '期間']\n",
    "\n",
    "        # 文字列をdatetimeに変換\n",
    "        date_format = '%Y-%m-%d %H:%M'\n",
    "        df['開始日時'] = pd.to_datetime(df['開始日時'].str[:16], format=date_format)\n",
    "        df['終了日時'] = pd.to_datetime(df['終了日時'].str[:16], format=date_format)\n",
    "\n",
    "        # 全期間をカバーする日時範囲を取得\n",
    "        start_time = df['開始日時'].iloc[0]\n",
    "        end_time = df['終了日時'].iloc[-1]\n",
    "\n",
    "        # 各1時間ステップのdatetimeリストを作成\n",
    "        time_range = pd.date_range(start=start_time, end=end_time, freq='H')\n",
    "\n",
    "        # 結果を保存するデータフレームを作成\n",
    "        result_df = pd.DataFrame(time_range, columns=['time'])\n",
    "\n",
    "        # 各1時間ステップの時間範囲に基づく比率を計算\n",
    "        result_df['ratio'] = result_df.apply(lambda row: calculate_alert_ratio(row['time'], row['time'] + timedelta(hours=1), df), axis=1)\n",
    "\n",
    "        # float型に変換\n",
    "        result_df['ratio'] = result_df['ratio'].astype(float)\n",
    "\n",
    "        # 'time' 列をdatetime型にしてインデックスに設定し、時：分：秒が00:00:00となるように調整\n",
    "        result_df['time'] = result_df['time'].dt.floor('H')\n",
    "        result_df.set_index('time', inplace=True)\n",
    "\n",
    "        # 2016年以降のデータのみを抽出\n",
    "        start_date = datetime(2016, 1, 1)\n",
    "        filtered_df = result_df[result_df.index >= start_date]\n",
    "\n",
    "        # 警報名で列名を変更\n",
    "        filtered_df.rename(columns={'ratio': warn_name}, inplace=True)\n",
    "\n",
    "        # 統合\n",
    "        if combined_df.empty:\n",
    "            combined_df = filtered_df\n",
    "        else:\n",
    "            combined_df = combined_df.join(filtered_df, how='outer')\n",
    "\n",
    "# NaNを0で埋める\n",
    "combined_df.fillna(0, inplace=True)\n",
    "\n",
    "# 結果を表示\n",
    "print(combined_df)\n",
    "\n",
    "# pickleで保存（書き出し）\n",
    "pickle_path = './kurashiki/output/warning_list.pickle'\n",
    "with open(pickle_path, mode='wb') as fo:\n",
    "    pickle.dump({'combined_df': combined_df}, fo)\n",
    "\n"
   ]
  },
  {
   "cell_type": "markdown",
   "metadata": {},
   "source": [
    "# 以下，グラフ表示のみ，単体で実行可"
   ]
  },
  {
   "cell_type": "code",
   "execution_count": 9,
   "metadata": {},
   "outputs": [
    {
     "name": "stdout",
     "output_type": "stream",
     "text": [
      "                     雷注意報  大雨注意報  洪水注意報  強風注意報  大雨警報  洪水警報  暴風警報  大雨特別警報\n",
      "time                                                                    \n",
      "2016-01-01 00:00:00   0.0    0.0    0.0    0.0   0.0   0.0   0.0     0.0\n",
      "2016-01-01 01:00:00   0.0    0.0    0.0    0.0   0.0   0.0   0.0     0.0\n",
      "2016-01-01 02:00:00   0.0    0.0    0.0    0.0   0.0   0.0   0.0     0.0\n",
      "2016-01-01 03:00:00   0.0    0.0    0.0    0.0   0.0   0.0   0.0     0.0\n",
      "2016-01-01 04:00:00   0.0    0.0    0.0    0.0   0.0   0.0   0.0     0.0\n",
      "...                   ...    ...    ...    ...   ...   ...   ...     ...\n",
      "2024-09-13 16:00:00   1.0    0.0    0.0    0.0   0.0   0.0   0.0     0.0\n",
      "2024-09-13 17:00:00   1.0    0.0    0.0    0.0   0.0   0.0   0.0     0.0\n",
      "2024-09-13 18:00:00   1.0    0.0    0.0    0.0   0.0   0.0   0.0     0.0\n",
      "2024-09-13 19:00:00   1.0    0.0    0.0    0.0   0.0   0.0   0.0     0.0\n",
      "2024-09-13 20:00:00   0.3    0.0    0.0    0.0   0.0   0.0   0.0     0.0\n",
      "\n",
      "[76293 rows x 8 columns]\n"
     ]
    },
    {
     "data": {
      "image/png": "[encoded data removed]",
      "text/plain": [
       "<Figure size 500x300 with 1 Axes>"
      ]
     },
     "metadata": {},
     "output_type": "display_data"
    }
   ],
   "source": [
    "import warnings\n",
    "import pickle\n",
    "import matplotlib.pyplot as plt\n",
    "\n",
    "warnings.simplefilter('ignore')\n",
    "\n",
    "# # 日本語フォントを可能にするアイテム\n",
    "from matplotlib import rcParams\n",
    "rcParams['font.family'] = 'Noto Sans CJK JP'\n",
    "\n",
    "# pickleで保存したファイルを読み込み\n",
    "pickle_path = './kurashiki/output/warning_list.pickle'\n",
    "with open(pickle_path, mode='rb') as fi:\n",
    "    data = pickle.load(fi)\n",
    "\n",
    "loaded_combined_df = data['combined_df']\n",
    "print(loaded_combined_df)\n",
    "\n",
    "show_graph=loaded_combined_df['洪水警報']\n",
    "\n",
    "# グラフを描画\n",
    "plt.figure(figsize=(5, 3))\n",
    "plt.plot(show_graph)\n",
    "# plt.xlabel('Time')\n",
    "plt.ylabel('Alert Ratio')\n",
    "plt.title('Alert Ratios Over Time')\n",
    "\n",
    "# 凡例を追加（リストとして渡す）\n",
    "# plt.legend([show_graph.name], loc='upper left')\n",
    "# English ver\n",
    "plt.legend(['Flood Warning'], loc='upper left')\n",
    "plt.grid()\n",
    "\n",
    "# グラフを表示\n",
    "plt.show()"
   ]
  }
 ],
 "metadata": {
  "kernelspec": {
   "display_name": "Python 3",
   "language": "python",
   "name": "python3"
  },
  "language_info": {
   "codemirror_mode": {
    "name": "ipython",
    "version": 3
   },
   "file_extension": ".py",
   "mimetype": "text/x-python",
   "name": "python",
   "nbconvert_exporter": "python",
   "pygments_lexer": "ipython3",
   "version": "3.10.12"
  }
 },
 "nbformat": 4,
 "nbformat_minor": 2
}
